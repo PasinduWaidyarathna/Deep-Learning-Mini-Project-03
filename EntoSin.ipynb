{
  "cells": [
    {
      "cell_type": "markdown",
      "metadata": {
        "id": "view-in-github",
        "colab_type": "text"
      },
      "source": [
        "<a href=\"https://colab.research.google.com/github/PasinduWaidyarathna/Deep-Learning-Mini-Project-03/blob/main/EntoSin.ipynb\" target=\"_parent\"><img src=\"https://colab.research.google.com/assets/colab-badge.svg\" alt=\"Open In Colab\"/></a>"
      ]
    },
    {
      "cell_type": "markdown",
      "metadata": {
        "id": "QT629icZcaSl"
      },
      "source": [
        "Necessary Library Imports"
      ]
    },
    {
      "cell_type": "code",
      "execution_count": 1,
      "metadata": {
        "id": "_Fc2KeNtcFLn"
      },
      "outputs": [],
      "source": [
        "import random\n",
        "import tensorflow as tf\n",
        "import string\n",
        "import re\n",
        "from tensorflow import keras\n",
        "from tensorflow.keras import layers"
      ]
    },
    {
      "cell_type": "markdown",
      "metadata": {
        "id": "UZX0slNVcbgW"
      },
      "source": [
        "Mount the Google Drive"
      ]
    },
    {
      "cell_type": "code",
      "execution_count": 2,
      "metadata": {
        "colab": {
          "base_uri": "https://localhost:8080/"
        },
        "id": "-P7AydiWcbxY",
        "outputId": "66feaad4-f56c-4691-dc94-b4d9b6ba8012"
      },
      "outputs": [
        {
          "output_type": "stream",
          "name": "stdout",
          "text": [
            "Mounted at /content/drive\n"
          ]
        }
      ],
      "source": [
        "from google.colab import drive\n",
        "drive.mount('/content/drive')"
      ]
    },
    {
      "cell_type": "code",
      "execution_count": 3,
      "metadata": {
        "colab": {
          "base_uri": "https://localhost:8080/"
        },
        "id": "f8OKIs8bx1NX",
        "outputId": "2e61fb8c-95d4-442f-8731-815dd9327968"
      },
      "outputs": [
        {
          "output_type": "stream",
          "name": "stdout",
          "text": [
            "Requirement already satisfied: openpyxl in /usr/local/lib/python3.10/dist-packages (3.1.2)\n",
            "Requirement already satisfied: et-xmlfile in /usr/local/lib/python3.10/dist-packages (from openpyxl) (1.1.0)\n"
          ]
        }
      ],
      "source": [
        "!pip install openpyxl"
      ]
    },
    {
      "cell_type": "markdown",
      "metadata": {
        "id": "_ik52dtbcb7q"
      },
      "source": [
        "Read the data file"
      ]
    },
    {
      "cell_type": "code",
      "execution_count": 20,
      "metadata": {
        "colab": {
          "base_uri": "https://localhost:8080/"
        },
        "id": "9qWYVkWpccEo",
        "outputId": "bdf6fd62-35cb-42e4-d278-8732127e2b77"
      },
      "outputs": [
        {
          "output_type": "stream",
          "name": "stdout",
          "text": [
            "Go.\tයන්න.\n",
            "Hi.\tහායි.\n",
            "Run!\tදුවන්න!\n",
            "Run.\tදුවන්න.\n",
            "Who?\tකවුද?\n",
            "Fire!\tගිනි!\n",
            "Help!\tඋදව්!\n",
            "Jump!\tපනින්න!\n",
            "Jump.\tපනින්න.\n",
            "Stop!\tනවත්වන්න!\n",
            "Wait!\tඉන්න!\n",
            "Wait.\tඉන්න.\n",
            "Go on.\tඉදිරියට යන්න.\n",
            "Hello!\tආයුබෝවන්!\n",
            "I ran.\tමම දිව්වා.\n",
            "I try.\tමම උත්සාහ කරනවා.\n",
            "I won!\tමම දිනුවා!\n",
            "Oh no!\tඔහ් නෑ!\n",
            "Relax.\tසන්සුන් වන්න.\n",
            "Smile.\tසිනහව.\n"
          ]
        }
      ],
      "source": [
        "import openpyxl\n",
        "\n",
        "excel_file = \"/content/drive/MyDrive/entosin.xlsx\"\n",
        "workbook = openpyxl.load_workbook(excel_file)\n",
        "sheet = workbook.active\n",
        "\n",
        "for i in range(2, 22):\n",
        "    cell1 = sheet.cell(row=i, column=1).value\n",
        "    cell2 = sheet.cell(row=i, column=2).value\n",
        "    print(f\"{cell1}\\t{cell2}\")\n",
        "\n",
        "workbook.close()\n"
      ]
    },
    {
      "cell_type": "markdown",
      "metadata": {
        "id": "uUtteFotccdz"
      },
      "source": [
        "Split the English and Sinhala translation pairs"
      ]
    },
    {
      "cell_type": "code",
      "execution_count": 21,
      "metadata": {
        "colab": {
          "base_uri": "https://localhost:8080/"
        },
        "id": "S3PhpQHtccmD",
        "outputId": "7f1d3e39-d8b7-410a-ef5e-5161841d8603"
      },
      "outputs": [
        {
          "output_type": "stream",
          "name": "stdout",
          "text": [
            "('I want you to try it.', '[start] මට ඔබ එය උත්සාහ කිරීමට අවශ්යයි. [end]')\n",
            "('They made fun of him.', '[start] ඔවුන් ඔහුට විහිළු කළා. [end]')\n",
            "('I think you worry too much.', '[start] මම හිතන්නේ ඔබ ඕනෑවට වඩා කරදර වෙනවා. [end]')\n"
          ]
        }
      ],
      "source": [
        "excel_file = \"/content/drive/MyDrive/entosin.xlsx\"\n",
        "workbook = openpyxl.load_workbook(excel_file)\n",
        "sheet = workbook.active\n",
        "\n",
        "text_pairs = []\n",
        "for row in sheet.iter_rows(values_only=True):\n",
        "    if len(row) >= 2 and row[1] is not None:\n",
        "        english, sinhala = row[:2]\n",
        "        sinhala = \"[start] \" + sinhala + \" [end]\"\n",
        "        text_pairs.append((english, sinhala))\n",
        "\n",
        "for _ in range(3):\n",
        "    print(random.choice(text_pairs))\n",
        "\n",
        "workbook.close()\n"
      ]
    },
    {
      "cell_type": "markdown",
      "metadata": {
        "id": "LXZhHwAvccuS"
      },
      "source": [
        "Randomize the data"
      ]
    },
    {
      "cell_type": "code",
      "execution_count": 22,
      "metadata": {
        "id": "ntlhKik_cc26"
      },
      "outputs": [],
      "source": [
        "random.shuffle(text_pairs)"
      ]
    },
    {
      "cell_type": "markdown",
      "metadata": {
        "id": "LTCO23TLcc93"
      },
      "source": [
        "Spliting the data into training, validation and Testing"
      ]
    },
    {
      "cell_type": "code",
      "execution_count": 23,
      "metadata": {
        "colab": {
          "base_uri": "https://localhost:8080/"
        },
        "id": "F-n5GsD7cdFn",
        "outputId": "ce9d8fbe-5804-4d3a-e503-d4e282fdd609"
      },
      "outputs": [
        {
          "output_type": "stream",
          "name": "stdout",
          "text": [
            "Total sentences: 54952\n",
            "Training set size: 38468\n",
            "Validation set size: 8242\n",
            "Testing set size: 8242\n"
          ]
        }
      ],
      "source": [
        "num_val_samples = int(0.15 * len(text_pairs))\n",
        "num_train_samples = len(text_pairs) - 2 * num_val_samples\n",
        "train_pairs = text_pairs[:num_train_samples]\n",
        "val_pairs = text_pairs[num_train_samples:num_train_samples + num_val_samples]\n",
        "test_pairs = text_pairs[num_train_samples + num_val_samples:]\n",
        "\n",
        "print(\"Total sentences:\",len(text_pairs))\n",
        "print(\"Training set size:\",len(train_pairs))\n",
        "print(\"Validation set size:\",len(val_pairs))\n",
        "print(\"Testing set size:\",len(test_pairs))\n"
      ]
    },
    {
      "cell_type": "code",
      "execution_count": 24,
      "metadata": {
        "colab": {
          "base_uri": "https://localhost:8080/"
        },
        "id": "Nlz7_hQBcdTu",
        "outputId": "eacdc947-ece9-4a01-fab1-65f25bb1333c"
      },
      "outputs": [
        {
          "output_type": "execute_result",
          "data": {
            "text/plain": [
              "54952"
            ]
          },
          "metadata": {},
          "execution_count": 24
        }
      ],
      "source": [
        "len(train_pairs)+len(val_pairs)+len(test_pairs)"
      ]
    },
    {
      "cell_type": "markdown",
      "metadata": {
        "id": "mfKFGFWTkifQ"
      },
      "source": [
        "Removing Punctuations"
      ]
    },
    {
      "cell_type": "code",
      "execution_count": 25,
      "metadata": {
        "colab": {
          "base_uri": "https://localhost:8080/",
          "height": 35
        },
        "id": "IZrUBdcDcdiB",
        "outputId": "1d20d90a-ea24-4a92-c8b2-b939a629f83b"
      },
      "outputs": [
        {
          "output_type": "execute_result",
          "data": {
            "text/plain": [
              "'[!\"\\\\#\\\\$%\\\\&\\'\\\\(\\\\)\\\\*\\\\+,\\\\-\\\\./:;<=>\\\\?@\\\\\\\\\\\\^_`\\\\{\\\\|\\\\}\\\\~¿]'"
            ],
            "application/vnd.google.colaboratory.intrinsic+json": {
              "type": "string"
            }
          },
          "metadata": {},
          "execution_count": 25
        }
      ],
      "source": [
        "strip_chars = string.punctuation + \"¿\"\n",
        "strip_chars = strip_chars.replace(\"[\", \"\")\n",
        "strip_chars = strip_chars.replace(\"]\", \"\")\n",
        "\n",
        "f\"[{re.escape(strip_chars)}]\""
      ]
    },
    {
      "cell_type": "code",
      "execution_count": 26,
      "metadata": {
        "colab": {
          "base_uri": "https://localhost:8080/",
          "height": 35
        },
        "id": "G58-tsGTcd0-",
        "outputId": "daf274a9-0616-4580-b089-e3751ce5b0af"
      },
      "outputs": [
        {
          "output_type": "execute_result",
          "data": {
            "text/plain": [
              "'8'"
            ],
            "application/vnd.google.colaboratory.intrinsic+json": {
              "type": "string"
            }
          },
          "metadata": {},
          "execution_count": 26
        }
      ],
      "source": [
        "f\"{3+5}\""
      ]
    },
    {
      "cell_type": "markdown",
      "metadata": {
        "id": "u9N4er4ccd9E"
      },
      "source": [
        "Vectorizing the English and Sinhala text pairs"
      ]
    },
    {
      "cell_type": "code",
      "execution_count": 27,
      "metadata": {
        "id": "m2VJVtguceFs"
      },
      "outputs": [],
      "source": [
        "def custom_standardization(input_string):\n",
        "  lowercase = tf.strings.lower(input_string)\n",
        "  return tf.strings.regex_replace(\n",
        "      lowercase, f\"[{re.escape(strip_chars)}]\", \"\")\n",
        "\n",
        "vocab_size = 15000\n",
        "sequence_length = 20\n",
        "\n",
        "source_vectorization = layers.TextVectorization(\n",
        "    max_tokens=vocab_size,\n",
        "    output_mode=\"int\",\n",
        "    output_sequence_length=sequence_length,\n",
        ")\n",
        "target_vectorization = layers.TextVectorization(\n",
        "    max_tokens=vocab_size,\n",
        "    output_mode=\"int\",\n",
        "    output_sequence_length=sequence_length + 1,\n",
        "    standardize=custom_standardization,\n",
        ")\n",
        "train_english_texts = [pair[0] for pair in train_pairs]\n",
        "train_sinhala_texts = [pair[1] for pair in train_pairs]\n",
        "source_vectorization.adapt(train_english_texts)\n",
        "target_vectorization.adapt(train_sinhala_texts)\n"
      ]
    },
    {
      "cell_type": "markdown",
      "metadata": {
        "id": "xu8bHjxmceNT"
      },
      "source": [
        "Preparing datasets for the translation task"
      ]
    },
    {
      "cell_type": "code",
      "execution_count": 28,
      "metadata": {
        "colab": {
          "base_uri": "https://localhost:8080/"
        },
        "id": "nsStSjhAceVI",
        "outputId": "be5ce5ad-15e4-49b5-e3cf-e3c6c42d20f8"
      },
      "outputs": [
        {
          "output_type": "stream",
          "name": "stdout",
          "text": [
            "inputs['english'].shape: (64, 20)\n",
            "inputs['sinhala'].shape: (64, 20)\n",
            "targets.shape: (64, 20)\n"
          ]
        }
      ],
      "source": [
        "batch_size = 64\n",
        "\n",
        "def format_dataset(eng, sin):\n",
        "   eng = source_vectorization(eng)\n",
        "   sin = target_vectorization(sin)\n",
        "   return ({\n",
        "         \"english\": eng,\n",
        "         \"sinhala\": sin[:, :-1],\n",
        "   }, sin[:, 1:])\n",
        "\n",
        "def make_dataset(pairs):\n",
        "    eng_texts, sin_texts = zip(*pairs)\n",
        "    eng_texts = list(eng_texts)\n",
        "    sin_texts = list(sin_texts)\n",
        "    dataset = tf.data.Dataset.from_tensor_slices((eng_texts, sin_texts))\n",
        "    dataset = dataset.batch(batch_size)\n",
        "    dataset = dataset.map(format_dataset, num_parallel_calls=4)\n",
        "    return dataset.shuffle(2048).prefetch(16).cache()\n",
        "\n",
        "train_ds = make_dataset(train_pairs)\n",
        "val_ds = make_dataset(val_pairs)\n",
        "\n",
        "\n",
        "for inputs, targets in train_ds.take(1):\n",
        "   print(f\"inputs['english'].shape: {inputs['english'].shape}\")\n",
        "   print(f\"inputs['sinhala'].shape: {inputs['sinhala'].shape}\")\n",
        "   print(f\"targets.shape: {targets.shape}\")\n",
        "\n",
        "\n"
      ]
    },
    {
      "cell_type": "code",
      "execution_count": 29,
      "metadata": {
        "colab": {
          "base_uri": "https://localhost:8080/"
        },
        "id": "1-M6gEmFcekl",
        "outputId": "e171c77d-4df1-4fda-8fe3-530ff6cd23f8"
      },
      "outputs": [
        {
          "output_type": "stream",
          "name": "stdout",
          "text": [
            "({'english': array([[   3,  780,   35, ...,    0,    0,    0],\n",
            "       [  18, 2082,   81, ...,    0,    0,    0],\n",
            "       [   9,   88,  122, ...,    0,    0,    0],\n",
            "       ...,\n",
            "       [  25,  254,  172, ...,    0,    0,    0],\n",
            "       [  11,    4,   16, ...,    0,    0,    0],\n",
            "       [ 133,    2,  137, ...,    0,    0,    0]]), 'sinhala': array([[  2,   5, 123, ...,   0,   0,   0],\n",
            "       [  2,  13,  10, ...,   0,   0,   0],\n",
            "       [  2,   8, 631, ...,   0,   0,   0],\n",
            "       ...,\n",
            "       [  2, 108, 172, ...,   0,   0,   0],\n",
            "       [  2,  11, 601, ...,   0,   0,   0],\n",
            "       [  2,   6,  11, ...,   0,   0,   0]])}, array([[   5,  123,  657, ...,    0,    0,    0],\n",
            "       [  13,   10, 2219, ...,    0,    0,    0],\n",
            "       [   8,  631,  180, ...,    0,    0,    0],\n",
            "       ...,\n",
            "       [ 108,  172,  206, ...,    0,    0,    0],\n",
            "       [  11,  601, 3225, ...,    0,    0,    0],\n",
            "       [   6,   11,   29, ...,    0,    0,    0]]))\n"
          ]
        }
      ],
      "source": [
        "print(list(train_ds.as_numpy_iterator())[50])"
      ]
    },
    {
      "cell_type": "markdown",
      "metadata": {
        "id": "TPb7zyyocesc"
      },
      "source": [
        "Transformer encoder implemented as a subclassed Layer"
      ]
    },
    {
      "cell_type": "code",
      "execution_count": 30,
      "metadata": {
        "id": "Xj6kbzgIcez0"
      },
      "outputs": [],
      "source": [
        "class TransformerEncoder(layers.Layer):\n",
        "    def __init__(self, embed_dim, dense_dim, num_heads, **kwargs):\n",
        "      super().__init__(**kwargs)\n",
        "      self.embed_dim = embed_dim\n",
        "      self.dense_dim = dense_dim\n",
        "      self.num_heads = num_heads\n",
        "      self.attention = layers.MultiHeadAttention(\n",
        "           num_heads=num_heads, key_dim=embed_dim)\n",
        "      self.dense_proj = keras.Sequential(\n",
        "           [layers.Dense(dense_dim, activation=\"relu\"),\n",
        "            layers.Dense(embed_dim),]\n",
        "      )\n",
        "      self.layernorm_1 = layers.LayerNormalization()\n",
        "      self.layernorm_2 = layers.LayerNormalization()\n",
        "\n",
        "    def call(self, inputs, mask=None):\n",
        "      if mask is not None:\n",
        "         mask = mask[:, tf.newaxis, :]\n",
        "      attention_output = self.attention(\n",
        "         inputs, inputs, attention_mask=mask)\n",
        "      proj_input = self.layernorm_1(inputs + attention_output)\n",
        "      proj_output = self.dense_proj(proj_input)\n",
        "      return self.layernorm_2(proj_input + proj_output)\n",
        "\n",
        "    def get_config(self):\n",
        "        config = super().get_config()\n",
        "        config.update({\n",
        "            \"embed_dim\": self.embed_dim,\n",
        "            \"num_heads\": self.num_heads,\n",
        "            \"dense_dim\": self.dense_dim,\n",
        "        })\n",
        "        return config\n"
      ]
    },
    {
      "cell_type": "markdown",
      "metadata": {
        "id": "fub6n634ce7j"
      },
      "source": [
        "The Transformer decoder"
      ]
    },
    {
      "cell_type": "code",
      "execution_count": 31,
      "metadata": {
        "id": "rjCAl5PycfDe"
      },
      "outputs": [],
      "source": [
        "class TransformerDecoder(layers.Layer):\n",
        "    def __init__(self, embed_dim, dense_dim, num_heads, **kwargs):\n",
        "      super().__init__(**kwargs)\n",
        "      self.embed_dim = embed_dim\n",
        "      self.dense_dim = dense_dim\n",
        "      self.num_heads = num_heads\n",
        "      self.attention_1 = layers.MultiHeadAttention(\n",
        "          num_heads=num_heads, key_dim=embed_dim)\n",
        "      self.attention_2 = layers.MultiHeadAttention(\n",
        "          num_heads=num_heads, key_dim=embed_dim)\n",
        "      self.dense_proj = keras.Sequential(\n",
        "          [layers.Dense(dense_dim, activation=\"relu\"),\n",
        "           layers.Dense(embed_dim),]\n",
        "      )\n",
        "      self.layernorm_1 = layers.LayerNormalization()\n",
        "      self.layernorm_2 = layers.LayerNormalization()\n",
        "      self.layernorm_3 = layers.LayerNormalization()\n",
        "      self.supports_masking = True\n",
        "\n",
        "    def get_config(self):\n",
        "      config = super().get_config()\n",
        "      config.update({\n",
        "          \"embed_dim\": self.embed_dim,\n",
        "          \"num_heads\": self.num_heads,\n",
        "          \"dense_dim\": self.dense_dim,\n",
        "      })\n",
        "      return config\n",
        "\n",
        "    def get_causal_attention_mask(self, inputs):\n",
        "      input_shape = tf.shape(inputs)\n",
        "      batch_size, sequence_length = input_shape[0], input_shape[1]\n",
        "      i = tf.range(sequence_length)[:, tf.newaxis]\n",
        "      j = tf.range(sequence_length)\n",
        "      mask = tf.cast(i >= j, dtype=\"int32\")\n",
        "      mask = tf.reshape(mask, (1, input_shape[1], input_shape[1]))\n",
        "      mult = tf.concat(\n",
        "              [tf.expand_dims(batch_size, -1),\n",
        "               tf.constant([1, 1], dtype=tf.int32)], axis=0)\n",
        "      return tf.tile(mask, mult)\n",
        "\n",
        "    def call(self, inputs, encoder_outputs, mask=None):\n",
        "      causal_mask = self.get_causal_attention_mask(inputs)\n",
        "      if mask is not None:\n",
        "           padding_mask = tf.cast(\n",
        "                mask[:, tf.newaxis, :], dtype=\"int32\")\n",
        "           padding_mask = tf.minimum(padding_mask, causal_mask)\n",
        "      else:\n",
        "           padding_mask = mask\n",
        "      attention_output_1 = self.attention_1(\n",
        "           query=inputs,\n",
        "           value=inputs,\n",
        "           key=inputs,\n",
        "           attention_mask=causal_mask)\n",
        "      attention_output_1 = self.layernorm_1(inputs + attention_output_1)\n",
        "      attention_output_2 = self.attention_2(\n",
        "            query=attention_output_1,\n",
        "            value=encoder_outputs,\n",
        "            key=encoder_outputs,\n",
        "            attention_mask=padding_mask,\n",
        "       )\n",
        "      attention_output_2 = self.layernorm_2(\n",
        "          attention_output_1 + attention_output_2)\n",
        "      proj_output = self.dense_proj(attention_output_2)\n",
        "      return self.layernorm_3(attention_output_2 + proj_output)\n",
        "\n"
      ]
    },
    {
      "cell_type": "markdown",
      "metadata": {
        "id": "dEXwSKpfcfKw"
      },
      "source": [
        "Positional Encoding"
      ]
    },
    {
      "cell_type": "code",
      "execution_count": 32,
      "metadata": {
        "id": "XlHKt-ticfTu"
      },
      "outputs": [],
      "source": [
        "class PositionalEmbedding(layers.Layer):\n",
        "     def __init__(self, sequence_length, input_dim, output_dim, **kwargs):\n",
        "         super().__init__(**kwargs)\n",
        "         self.token_embeddings = layers.Embedding(\n",
        "             input_dim=input_dim, output_dim=output_dim)\n",
        "         self.position_embeddings = layers.Embedding(\n",
        "             input_dim=sequence_length, output_dim=output_dim)\n",
        "         self.sequence_length = sequence_length\n",
        "         self.input_dim = input_dim\n",
        "         self.output_dim = output_dim\n",
        "\n",
        "     def call(self, inputs):\n",
        "         length = tf.shape(inputs)[-1]\n",
        "         positions = tf.range(start=0, limit=length, delta=1)\n",
        "         embedded_tokens = self.token_embeddings(inputs)\n",
        "         embedded_positions = self.position_embeddings(positions)\n",
        "         return embedded_tokens + embedded_positions\n",
        "\n",
        "     def compute_mask(self, inputs, mask=None):\n",
        "        return tf.math.not_equal(inputs, 0)\n",
        "\n",
        "     def get_config(self):\n",
        "        config = super(PositionalEmbedding, self).get_config()\n",
        "        config.update({\n",
        "             \"output_dim\": self.output_dim,\n",
        "             \"sequence_length\": self.sequence_length,\n",
        "             \"input_dim\": self.input_dim,\n",
        "        })\n",
        "        return config\n"
      ]
    },
    {
      "cell_type": "markdown",
      "metadata": {
        "id": "JaRS3BJRcfbW"
      },
      "source": [
        "End-to-end Transformer"
      ]
    },
    {
      "cell_type": "code",
      "execution_count": 33,
      "metadata": {
        "id": "CBydQxTPcfkC"
      },
      "outputs": [],
      "source": [
        "embed_dim = 256\n",
        "dense_dim = 2048\n",
        "num_heads = 8\n",
        "\n",
        "encoder_inputs = keras.Input(shape=(None,), dtype=\"int64\", name=\"english\")\n",
        "x = PositionalEmbedding(sequence_length, vocab_size, embed_dim)(encoder_inputs)\n",
        "encoder_outputs = TransformerEncoder(embed_dim, dense_dim, num_heads)(x)\n",
        "\n",
        "decoder_inputs = keras.Input(shape=(None,), dtype=\"int64\", name=\"sinhala\")\n",
        "x = PositionalEmbedding(sequence_length, vocab_size, embed_dim)(decoder_inputs)\n",
        "x = TransformerDecoder(embed_dim, dense_dim, num_heads)(x, encoder_outputs)\n",
        "x = layers.Dropout(0.5)(x)\n",
        "decoder_outputs = layers.Dense(vocab_size, activation=\"softmax\")(x)\n",
        "transformer = keras.Model([encoder_inputs, decoder_inputs], decoder_outputs)\n"
      ]
    },
    {
      "cell_type": "code",
      "execution_count": 34,
      "metadata": {
        "colab": {
          "base_uri": "https://localhost:8080/"
        },
        "id": "HbvhUH8fcf0E",
        "outputId": "66274a80-466e-4c86-e22a-610d658a7b6e"
      },
      "outputs": [
        {
          "output_type": "stream",
          "name": "stdout",
          "text": [
            "Model: \"model_1\"\n",
            "__________________________________________________________________________________________________\n",
            " Layer (type)                Output Shape                 Param #   Connected to                  \n",
            "==================================================================================================\n",
            " english (InputLayer)        [(None, None)]               0         []                            \n",
            "                                                                                                  \n",
            " sinhala (InputLayer)        [(None, None)]               0         []                            \n",
            "                                                                                                  \n",
            " positional_embedding_2 (Po  (None, None, 256)            3845120   ['english[0][0]']             \n",
            " sitionalEmbedding)                                                                               \n",
            "                                                                                                  \n",
            " positional_embedding_3 (Po  (None, None, 256)            3845120   ['sinhala[0][0]']             \n",
            " sitionalEmbedding)                                                                               \n",
            "                                                                                                  \n",
            " transformer_encoder_1 (Tra  (None, None, 256)            3155456   ['positional_embedding_2[0][0]\n",
            " nsformerEncoder)                                                   ']                            \n",
            "                                                                                                  \n",
            " transformer_decoder_1 (Tra  (None, None, 256)            5259520   ['positional_embedding_3[0][0]\n",
            " nsformerDecoder)                                                   ',                            \n",
            "                                                                     'transformer_encoder_1[0][0]'\n",
            "                                                                    ]                             \n",
            "                                                                                                  \n",
            " dropout_1 (Dropout)         (None, None, 256)            0         ['transformer_decoder_1[0][0]'\n",
            "                                                                    ]                             \n",
            "                                                                                                  \n",
            " dense_9 (Dense)             (None, None, 15000)          3855000   ['dropout_1[0][0]']           \n",
            "                                                                                                  \n",
            "==================================================================================================\n",
            "Total params: 19960216 (76.14 MB)\n",
            "Trainable params: 19960216 (76.14 MB)\n",
            "Non-trainable params: 0 (0.00 Byte)\n",
            "__________________________________________________________________________________________________\n"
          ]
        }
      ],
      "source": [
        "transformer.summary()"
      ]
    },
    {
      "cell_type": "markdown",
      "metadata": {
        "id": "izcfAoCCcf7a"
      },
      "source": [
        "Training the sequence-to-sequence Transformer"
      ]
    },
    {
      "cell_type": "code",
      "execution_count": 35,
      "metadata": {
        "colab": {
          "base_uri": "https://localhost:8080/"
        },
        "id": "TtD5TtarcgFw",
        "outputId": "6328ecbc-255a-4e3a-eaeb-f7285148d5e2"
      },
      "outputs": [
        {
          "output_type": "stream",
          "name": "stdout",
          "text": [
            "Epoch 1/30\n",
            "602/602 [==============================] - 54s 79ms/step - loss: 4.1935 - accuracy: 0.4489 - val_loss: 3.3089 - val_accuracy: 0.5369\n",
            "Epoch 2/30\n",
            "602/602 [==============================] - 43s 71ms/step - loss: 3.0269 - accuracy: 0.5669 - val_loss: 2.7242 - val_accuracy: 0.6076\n",
            "Epoch 3/30\n",
            "602/602 [==============================] - 43s 71ms/step - loss: 2.5479 - accuracy: 0.6202 - val_loss: 2.4541 - val_accuracy: 0.6422\n",
            "Epoch 4/30\n",
            "602/602 [==============================] - 42s 70ms/step - loss: 2.2632 - accuracy: 0.6553 - val_loss: 2.4181 - val_accuracy: 0.6469\n",
            "Epoch 5/30\n",
            "602/602 [==============================] - 42s 70ms/step - loss: 2.0654 - accuracy: 0.6813 - val_loss: 2.2639 - val_accuracy: 0.6667\n",
            "Epoch 6/30\n",
            "602/602 [==============================] - 43s 71ms/step - loss: 1.9171 - accuracy: 0.7024 - val_loss: 2.2275 - val_accuracy: 0.6742\n",
            "Epoch 7/30\n",
            "602/602 [==============================] - 43s 71ms/step - loss: 1.8087 - accuracy: 0.7186 - val_loss: 2.1605 - val_accuracy: 0.6869\n",
            "Epoch 8/30\n",
            "602/602 [==============================] - 42s 70ms/step - loss: 1.7259 - accuracy: 0.7320 - val_loss: 2.1883 - val_accuracy: 0.6864\n",
            "Epoch 9/30\n",
            "602/602 [==============================] - 43s 71ms/step - loss: 1.6647 - accuracy: 0.7429 - val_loss: 2.1823 - val_accuracy: 0.6881\n",
            "Epoch 10/30\n",
            "602/602 [==============================] - 43s 72ms/step - loss: 1.6165 - accuracy: 0.7523 - val_loss: 2.1599 - val_accuracy: 0.6941\n",
            "Epoch 11/30\n",
            "602/602 [==============================] - 43s 71ms/step - loss: 1.5803 - accuracy: 0.7597 - val_loss: 2.1788 - val_accuracy: 0.6917\n",
            "Epoch 12/30\n",
            "602/602 [==============================] - 42s 70ms/step - loss: 1.5529 - accuracy: 0.7660 - val_loss: 2.1941 - val_accuracy: 0.6936\n",
            "Epoch 13/30\n",
            "602/602 [==============================] - 43s 72ms/step - loss: 1.5283 - accuracy: 0.7722 - val_loss: 2.2151 - val_accuracy: 0.6937\n",
            "Epoch 14/30\n",
            "602/602 [==============================] - 43s 71ms/step - loss: 1.5067 - accuracy: 0.7768 - val_loss: 2.2235 - val_accuracy: 0.6973\n",
            "Epoch 15/30\n",
            "602/602 [==============================] - 43s 71ms/step - loss: 1.4890 - accuracy: 0.7813 - val_loss: 2.2428 - val_accuracy: 0.6909\n",
            "Epoch 16/30\n",
            "602/602 [==============================] - 42s 70ms/step - loss: 1.4753 - accuracy: 0.7858 - val_loss: 2.2206 - val_accuracy: 0.7006\n",
            "Epoch 17/30\n",
            "602/602 [==============================] - 43s 71ms/step - loss: 1.4622 - accuracy: 0.7885 - val_loss: 2.2625 - val_accuracy: 0.6954\n",
            "Epoch 18/30\n",
            "602/602 [==============================] - 42s 69ms/step - loss: 1.4442 - accuracy: 0.7920 - val_loss: 2.2453 - val_accuracy: 0.6994\n",
            "Epoch 19/30\n",
            "602/602 [==============================] - 42s 70ms/step - loss: 1.4346 - accuracy: 0.7951 - val_loss: 2.2659 - val_accuracy: 0.6994\n",
            "Epoch 20/30\n",
            "602/602 [==============================] - 42s 69ms/step - loss: 1.4250 - accuracy: 0.7972 - val_loss: 2.2707 - val_accuracy: 0.6977\n",
            "Epoch 21/30\n",
            "602/602 [==============================] - 42s 69ms/step - loss: 1.4141 - accuracy: 0.8003 - val_loss: 2.2502 - val_accuracy: 0.7030\n",
            "Epoch 22/30\n",
            "602/602 [==============================] - 42s 70ms/step - loss: 1.4040 - accuracy: 0.8019 - val_loss: 2.2571 - val_accuracy: 0.7029\n",
            "Epoch 23/30\n",
            "602/602 [==============================] - 42s 70ms/step - loss: 1.3937 - accuracy: 0.8044 - val_loss: 2.3086 - val_accuracy: 0.6988\n",
            "Epoch 24/30\n",
            "602/602 [==============================] - 42s 70ms/step - loss: 1.3829 - accuracy: 0.8069 - val_loss: 2.3225 - val_accuracy: 0.6988\n",
            "Epoch 25/30\n",
            "602/602 [==============================] - 42s 70ms/step - loss: 1.3796 - accuracy: 0.8086 - val_loss: 2.3021 - val_accuracy: 0.7021\n",
            "Epoch 26/30\n",
            "602/602 [==============================] - 42s 70ms/step - loss: 1.3749 - accuracy: 0.8096 - val_loss: 2.3280 - val_accuracy: 0.7019\n",
            "Epoch 27/30\n",
            "602/602 [==============================] - 43s 71ms/step - loss: 1.3652 - accuracy: 0.8115 - val_loss: 2.3252 - val_accuracy: 0.7002\n",
            "Epoch 28/30\n",
            "602/602 [==============================] - 42s 70ms/step - loss: 1.3622 - accuracy: 0.8125 - val_loss: 2.3401 - val_accuracy: 0.7016\n",
            "Epoch 29/30\n",
            "602/602 [==============================] - 42s 70ms/step - loss: 1.3555 - accuracy: 0.8142 - val_loss: 2.3493 - val_accuracy: 0.7038\n",
            "Epoch 30/30\n",
            "602/602 [==============================] - 43s 71ms/step - loss: 1.3522 - accuracy: 0.8147 - val_loss: 2.3608 - val_accuracy: 0.7025\n"
          ]
        },
        {
          "output_type": "execute_result",
          "data": {
            "text/plain": [
              "<keras.src.callbacks.History at 0x7ba5eefc1f00>"
            ]
          },
          "metadata": {},
          "execution_count": 35
        }
      ],
      "source": [
        "transformer.compile(\n",
        "    optimizer=\"rmsprop\",\n",
        "    loss=\"sparse_categorical_crossentropy\",\n",
        "    metrics=[\"accuracy\"])\n",
        "transformer.fit(train_ds, epochs=30, validation_data=val_ds)\n"
      ]
    },
    {
      "cell_type": "markdown",
      "metadata": {
        "id": "HtV-4Jp7cgNt"
      },
      "source": [
        "Translating new sentences with our Transformer model"
      ]
    },
    {
      "cell_type": "code",
      "execution_count": 36,
      "metadata": {
        "id": "lKCdvEQFcgWn"
      },
      "outputs": [],
      "source": [
        "sin_vocab = target_vectorization.get_vocabulary()\n",
        "spa_index_lookup = dict(zip(range(len(sin_vocab)), sin_vocab))\n",
        "max_decoded_sentence_length = 20\n"
      ]
    },
    {
      "cell_type": "markdown",
      "metadata": {
        "id": "P124OmIxcgeo"
      },
      "source": [
        "Output Testing and Decoding the output sequence"
      ]
    },
    {
      "cell_type": "code",
      "execution_count": 37,
      "metadata": {
        "id": "xjO9rIZkcgnq"
      },
      "outputs": [],
      "source": [
        "import numpy as np\n",
        "\n",
        "def decode_sequence(input_sentence):\n",
        "     tokenized_input_sentence = source_vectorization([input_sentence])\n",
        "     decoded_sentence = \"[start]\"\n",
        "     for i in range(max_decoded_sentence_length):\n",
        "       tokenized_target_sentence = target_vectorization(\n",
        "         [decoded_sentence])[:, :-1]\n",
        "       predictions = transformer(\n",
        "         [tokenized_input_sentence, tokenized_target_sentence])\n",
        "       sampled_token_index = np.argmax(predictions[0, i, :])\n",
        "       sampled_token = spa_index_lookup[sampled_token_index]\n",
        "       decoded_sentence += \" \" + sampled_token\n",
        "       if sampled_token == \"[end]\": break\n",
        "     return decoded_sentence"
      ]
    },
    {
      "cell_type": "markdown",
      "metadata": {
        "id": "LzPCHf-Acgvm"
      },
      "source": [
        "Transformer translating output"
      ]
    },
    {
      "cell_type": "code",
      "execution_count": 40,
      "metadata": {
        "colab": {
          "base_uri": "https://localhost:8080/"
        },
        "id": "fmWCUkuscg4y",
        "outputId": "c4c35649-4f0f-434f-e259-dee03ca83b9a"
      },
      "outputs": [
        {
          "output_type": "stream",
          "name": "stdout",
          "text": [
            "-\n",
            "Tom drove the car.\n",
            "[start] ටොම් කාර් එක දෙස ගියේය [end]\n",
            "-\n",
            "I'm talking about my friend.\n",
            "[start] මම මගේ මිතුරා ගැන කතා කරනවා [end]\n",
            "-\n",
            "We should help.\n",
            "[start] අපි උදව් කළ යුතුයි [end]\n",
            "-\n",
            "Tom will probably succeed.\n",
            "[start] ටොම් බොහෝ විට සාර්ථක වනු ඇත [end]\n",
            "-\n",
            "When did you buy the watch?\n",
            "[start] ඔබ පින්තූරය ගත්තේ කවදාද [end]\n"
          ]
        }
      ],
      "source": [
        "test_eng_texts = [pair[0] for pair in test_pairs]\n",
        "for _ in range(5):\n",
        "    input_sentence = random.choice(test_eng_texts)\n",
        "    print(\"-\")\n",
        "    print(input_sentence)\n",
        "    print(decode_sequence(input_sentence))\n",
        "\n"
      ]
    },
    {
      "cell_type": "markdown",
      "metadata": {
        "id": "r660q0N3chCL"
      },
      "source": [
        "Evaluation using the BLEU score"
      ]
    },
    {
      "cell_type": "code",
      "execution_count": 41,
      "metadata": {
        "colab": {
          "base_uri": "https://localhost:8080/"
        },
        "id": "Cs6FBdvQchK-",
        "outputId": "b8bd7a6b-88e1-46bc-821e-de1c0db27c70"
      },
      "outputs": [
        {
          "output_type": "stream",
          "name": "stdout",
          "text": [
            "[start] මෙම හොඳයි [end] [start] මෙම ලකුණෙහි තේරුම කුමක්ද? [end]\n",
            "Score:0.6086956521739131\n"
          ]
        },
        {
          "output_type": "stream",
          "name": "stderr",
          "text": [
            "/usr/local/lib/python3.10/dist-packages/nltk/translate/bleu_score.py:552: UserWarning: \n",
            "The hypothesis contains 0 counts of 2-gram overlaps.\n",
            "Therefore the BLEU score evaluates to 0, independently of\n",
            "how many N-gram overlaps of lower order it contains.\n",
            "Consider using lower n-gram order or use SmoothingFunction()\n",
            "  warnings.warn(_msg)\n",
            "/usr/local/lib/python3.10/dist-packages/nltk/translate/bleu_score.py:552: UserWarning: \n",
            "The hypothesis contains 0 counts of 3-gram overlaps.\n",
            "Therefore the BLEU score evaluates to 0, independently of\n",
            "how many N-gram overlaps of lower order it contains.\n",
            "Consider using lower n-gram order or use SmoothingFunction()\n",
            "  warnings.warn(_msg)\n",
            "/usr/local/lib/python3.10/dist-packages/nltk/translate/bleu_score.py:552: UserWarning: \n",
            "The hypothesis contains 0 counts of 4-gram overlaps.\n",
            "Therefore the BLEU score evaluates to 0, independently of\n",
            "how many N-gram overlaps of lower order it contains.\n",
            "Consider using lower n-gram order or use SmoothingFunction()\n",
            "  warnings.warn(_msg)\n"
          ]
        },
        {
          "output_type": "stream",
          "name": "stdout",
          "text": [
            "[start] ටොම් ඊයේ රෑ එහි දුටුවේය [end] [start] ටොම් එහි රතු දෙයක් දුටුවේය. [end]\n",
            "Score:0.6216216216216216\n",
            "[start] මම ඉතා කලබල වී සිටිමි [end] [start] මම ගොඩක් කලබලයි. [end]\n",
            "Score:0.42857142857142855\n",
            "[start] ටොම් ඔබ එනතුරු බලා සිටියේය [end] [start] ටොම් ඔබ එනතුරු බලා සිටී. [end]\n",
            "Score:0.625\n",
            "[start] ක්රීඩාව ආරම්භ කිරීමට ඉඩ දෙන්න [end] [start] ක්රීඩාව ආරම්භ කිරීමට ඉඩ දෙන්න. [end]\n",
            "Score:0.6046511627906976\n",
            "[start] එය සම්පූර්ණයෙන්ම රළු නොවේ [end] [start] එය මුළුමනින්ම නිෂ් .ල ය. [end]\n",
            "Score:0.4358974358974359\n",
            "[start] මම දන්නවා ඒක ප්රශ්නයක් [end] [start] මම එය හොඳින් දනිමි. [end]\n",
            "Score:0.4166666666666667\n",
            "[start] මම ඔහුට කතා කරන්නම් [end] [start] මම ඔහුට කතා කරන්නම්. [end]\n",
            "Score:0.6363636363636364\n",
            "[start] මම ඔහුට පසුගිය වසරේ ඔහු බැලීමට ගියෙමි [end] [start] මම ගිය අවුරුද්දේ ඊයේ පාර්ශවයකදී ඔහුට හමු විය. [end]\n",
            "Score:0.45098039215686275\n",
            "[start] කරුණාකර මට පිටව යාමට දෙන්න [end] [start] කරුණාකර මට යන්න කවදාදැයි කියන්න. [end]\n",
            "Score:0.575\n",
            "[start] ටොම් එයට ආදරය කරනු ඇත [end] [start] ටොම් එයට ආදරය කරයි. [end]\n",
            "Score:0.5714285714285714\n",
            "[start] ඔහු වෛද්යවරයෙක් විය යුතුයි [end] [start] ඔහු වෛද්යවරයකු වීමට කැමතියි. [end]\n",
            "Score:0.55\n",
            "[start] මම මගේ හදවත පැදවීමට කැමතියි [end] [start] මම මගේ කුකුළා මාධ්යයට කැමතියි. [end]\n",
            "Score:0.4634146341463415\n",
            "[start] එය තුවාල අදහසක් [end] [start] එය දීප්තිමත් අදහසකි. [end]\n",
            "Score:0.6551724137931034\n",
            "[start] මම සෑම දිනකම වැඩට යනවා [end] [start] මම හැමදාම කාර් එකෙන් වැඩට යනවා. [end]\n",
            "Score:0.5555555555555556\n",
            "[start] හැම දෙයක්ම මගේ [end] [start] මෙහි සෑම දෙයක්ම මගේ ය. [end]\n",
            "Score:0.6785714285714286\n",
            "[start] මම ඔබට ලිපියක් යැව්වාය [end] [start] මම ඔයාට ලිපියක් යැව්වා. [end]\n",
            "Score:0.6111111111111112\n",
            "[start] ටොම් බියර් දෙන්න [end] [start] ටොම්ට පානයක් දෙන්න. [end]\n",
            "Score:0.6\n",
            "[start] මේක මට බාධා කරනවා [end] [start] මේ ගෙඩි. [end]\n",
            "Score:0.3870967741935484\n",
            "[start] ඕනෑම කෙනෙකුට මෙය කළ හැකිය [end] [start] ඕනෑම කෙනෙකුට මෙය කළ හැකිය. [end]\n",
            "Score:0.5897435897435898\n",
            "\n",
            "BLEU score : 11.07/20\n"
          ]
        }
      ],
      "source": [
        "from nltk.translate.bleu_score import sentence_bleu\n",
        "\n",
        "test_eng_texts = [pair[0] for pair in test_pairs]\n",
        "test_sin_texts = [pair[1] for pair in test_pairs]\n",
        "score = 0\n",
        "bleu  = 0\n",
        "for i in range(20):\n",
        "    candidate = decode_sequence(test_eng_texts[i])\n",
        "    reference = test_sin_texts[i].lower()\n",
        "    print(candidate,reference)\n",
        "    score = sentence_bleu(reference, candidate, weights=(1, 0, 0, 0))\n",
        "    bleu+=score\n",
        "    print(f\"Score:{score}\")\n",
        "print(f\"\\nBLEU score : {round(bleu,2)}/20\")"
      ]
    },
    {
      "cell_type": "markdown",
      "metadata": {
        "id": "8GkdxaKBBT6z"
      },
      "source": [
        "Calculate accuracy for 20 new sentences"
      ]
    },
    {
      "cell_type": "code",
      "execution_count": 44,
      "metadata": {
        "colab": {
          "base_uri": "https://localhost:8080/"
        },
        "id": "3KQm5sjOBUIR",
        "outputId": "6095da13-b3e5-4d45-a496-d7d13416353e"
      },
      "outputs": [
        {
          "output_type": "stream",
          "name": "stdout",
          "text": [
            "[start] මම නව භාෂා හතරක් අවශ්යයි [end] මම අලුත් භාෂා ඉගෙන ගන්න ආසයි.\n",
            "Score:0.2894736842105263\n",
            "[start] මෙය ලස්සන දවසක් [end] මේක ලස්සන දවසක්.\n",
            "Score:0.3103448275862069\n",
            "[start] ඇය ඉතා හොඳින් ගායනා කරනවා [end] ඇය ඉතා හොඳින් ගායනා කරයි.\n",
            "Score:0.38461538461538464\n",
            "[start] ඔවුන් උද්යානයට යනවා [end] ඔවුන් උද්යානයට යනවා.\n",
            "Score:0.3333333333333333\n",
            "[start] පොත මේසය මත ය [end] පොත මේසය උඩ.\n",
            "Score:0.2962962962962963\n",
            "[start] අපි මෙම කාර්යය අවසන් කිරීමට අවශ්යයි [end] අපි මේ ව්‍යාපෘතිය අවසන් කළ යුතුයි.\n",
            "Score:0.24489795918367346\n",
            "[start] ඔහු හොඳ මිතුරෙකි [end] ඔහු හොඳ මිතුරෙකි.\n",
            "Score:0.4\n",
            "[start] මට ගිනි ඔයාව ගිනි තියෙනවා [end] මට ලොව වටා සංචාරය කිරීමට අවශ්‍යයි.\n",
            "Score:0.1794871794871795\n",
            "[start] නිවස පොලිස් මත බොරු ය [end] බළලා සෝෆා මත නිදාගෙන සිටී.\n",
            "Score:0.22857142857142856\n",
            "[start] ඇය කෑම රසයි [end] ඇය රසවත් කෑම උයනවා.\n",
            "Score:0.32\n",
            "[start] අපට කරන්න බොහෝ වැඩ ගොඩක් තියෙනවා [end] අපිට කරන්න වැඩ ගොඩක් තියෙනවා.\n",
            "Score:0.391304347826087\n",
            "[start] ඔහු ස්පා ් යනු ස්පා ් යනු ස්පා ් කළේ වේ [end] ඔහු චතුර ලෙස ස්පාඤ්ඤ භාෂාව කතා කරයි.\n",
            "Score:0.20754716981132076\n",
            "[start] ප්රසංගය සම්බන්ධ විය පටන් ගත්තේය [end] ප්‍රසංගය සවස 7 ට ආරම්භ වේ.\n",
            "Score:0.26666666666666666\n",
            "[start] මට කරන හැක්කේ ටිකක් මිලදී ගැනීමට අවශ්යයි [end] මට සිල්ලර බඩු ටිකක් ගන්න ඕන.\n",
            "Score:0.18518518518518515\n",
            "[start] ඇය ඇගේ මාමා වෙනුවෙන් ක්රීඩාව නැවත පැමිණ ඇත [end] ඇය විභාගයට පාඩම් කරයි.\n",
            "Score:0.23214285714285715\n",
            "[start] ඔවුන් චිත්රපටය දෙස බලා සිටී [end] එයාලා ෆිල්ම් එකක් බලනවා.\n",
            "Score:0.21951219512195122\n",
            "[start] ඔහු ගිටාරය හොඳින් වාදනය කරයි [end] ඔහු ඉතා හොඳින් ගිටාර් වාදනය කරයි.\n",
            "Score:0.40476190476190477\n",
            "[start] අපි හෙට එළියට යනවා [end] අපි හෙට මුහුදු වෙරළට යනවා.\n",
            "Score:0.375\n",
            "[start] මගේ සැඟවී සිටින්නේ තවත් ය [end] සඳුදා දිනවල කෞතුකාගාරය වසා ඇත.\n",
            "Score:0.20512820512820512\n",
            "[start] මම මගේ පවුල බලන්න යනවා [end] මම මගේ පවුල බලන්න යනවා.\n",
            "Score:0.36111111111111116\n",
            "\n",
            "BLEU score : 5.84/20\n"
          ]
        }
      ],
      "source": [
        "manualTest = [\n",
        "    (\"I love learning new languages.\", \"මම අලුත් භාෂා ඉගෙන ගන්න ආසයි.\"),\n",
        "    (\"This is a beautiful day.\", \"මේක ලස්සන දවසක්.\"),\n",
        "    (\"She sings very well.\", \"ඇය ඉතා හොඳින් ගායනා කරයි.\"),\n",
        "    (\"They are going to the park.\", \"ඔවුන් උද්යානයට යනවා.\"),\n",
        "    (\"The book is on the table.\", \"පොත මේසය උඩ.\"),\n",
        "    (\"We need to finish this project.\", \"අපි මේ ව්‍යාපෘතිය අවසන් කළ යුතුයි.\"),\n",
        "    (\"He is a good friend.\", \"ඔහු හොඳ මිතුරෙකි.\"),\n",
        "    (\"I want to travel around the world.\", \"මට ලොව වටා සංචාරය කිරීමට අවශ්‍යයි.\"),\n",
        "    (\"The cat is sleeping on the sofa.\", \"බළලා සෝෆා මත නිදාගෙන සිටී.\"),\n",
        "    (\"She cooks delicious food.\", \"ඇය රසවත් කෑම උයනවා.\"),\n",
        "    (\"We have a lot of work to do.\", \"අපිට කරන්න වැඩ ගොඩක් තියෙනවා.\"),\n",
        "    (\"He speaks Spanish fluently.\", \"ඔහු චතුර ලෙස ස්පාඤ්ඤ භාෂාව කතා කරයි.\"),\n",
        "    (\"The concert starts at 7 PM.\", \"ප්‍රසංගය සවස 7 ට ආරම්භ වේ.\"),\n",
        "    (\"I need to buy some groceries.\", \"මට සිල්ලර බඩු ටිකක් ගන්න ඕන.\"),\n",
        "    (\"She is studying for her exam.\", \"ඇය විභාගයට පාඩම් කරයි.\"),\n",
        "    (\"They are watching a movie.\", \"එයාලා ෆිල්ම් එකක් බලනවා.\"),\n",
        "    (\"He plays the guitar very well.\", \"ඔහු ඉතා හොඳින් ගිටාර් වාදනය කරයි.\"),\n",
        "    (\"We are going to the beach tomorrow.\", \"අපි හෙට මුහුදු වෙරළට යනවා.\"),\n",
        "    (\"The museum is closed on Mondays.\", \"සඳුදා දිනවල කෞතුකාගාරය වසා ඇත.\"),\n",
        "    (\"I am going to visit my family.\", \"මම මගේ පවුල බලන්න යනවා.\")\n",
        "]\n",
        "\n",
        "from nltk.translate.bleu_score import sentence_bleu\n",
        "\n",
        "testENTexts = [pair[0] for pair in manualTest]\n",
        "testSITexts = [pair[1] for pair in manualTest]\n",
        "score = 0\n",
        "bleu  = 0\n",
        "for i in range(20):\n",
        "    candidate = decode_sequence(testENTexts[i])\n",
        "    reference = testSITexts[i].lower()\n",
        "    print(candidate,reference)\n",
        "    score = sentence_bleu(reference, candidate, weights=(1, 0, 0, 0))\n",
        "    bleu+=score\n",
        "    print(f\"Score:{score}\")\n",
        "print(f\"\\nBLEU score : {round(bleu,2)}/20\")\n",
        "\n",
        "\n"
      ]
    }
  ],
  "metadata": {
    "accelerator": "GPU",
    "colab": {
      "gpuType": "T4",
      "provenance": [],
      "include_colab_link": true
    },
    "kernelspec": {
      "display_name": "Python 3",
      "name": "python3"
    },
    "language_info": {
      "name": "python"
    }
  },
  "nbformat": 4,
  "nbformat_minor": 0
}