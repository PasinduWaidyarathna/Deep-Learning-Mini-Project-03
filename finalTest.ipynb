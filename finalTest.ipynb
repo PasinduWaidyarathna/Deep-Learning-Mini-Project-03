{
  "cells": [
    {
      "cell_type": "markdown",
      "metadata": {
        "id": "view-in-github",
        "colab_type": "text"
      },
      "source": [
        "<a href=\"https://colab.research.google.com/github/PasinduWaidyarathna/Deep-Learning-Mini-Project-03/blob/main/finalTest.ipynb\" target=\"_parent\"><img src=\"https://colab.research.google.com/assets/colab-badge.svg\" alt=\"Open In Colab\"/></a>"
      ]
    },
    {
      "cell_type": "markdown",
      "metadata": {
        "id": "QT629icZcaSl"
      },
      "source": [
        "Necessary Library Imports"
      ]
    },
    {
      "cell_type": "code",
      "execution_count": 1,
      "metadata": {
        "id": "_Fc2KeNtcFLn"
      },
      "outputs": [],
      "source": [
        "import random\n",
        "import tensorflow as tf\n",
        "import string\n",
        "import re\n",
        "from tensorflow import keras\n",
        "from tensorflow.keras import layers"
      ]
    },
    {
      "cell_type": "markdown",
      "metadata": {
        "id": "UZX0slNVcbgW"
      },
      "source": [
        "Mount the Google Drive"
      ]
    },
    {
      "cell_type": "code",
      "execution_count": 2,
      "metadata": {
        "colab": {
          "base_uri": "https://localhost:8080/"
        },
        "id": "-P7AydiWcbxY",
        "outputId": "ee7916c0-b41a-42d1-9a07-bfd3904700df"
      },
      "outputs": [
        {
          "output_type": "stream",
          "name": "stdout",
          "text": [
            "Mounted at /content/drive\n"
          ]
        }
      ],
      "source": [
        "from google.colab import drive\n",
        "drive.mount('/content/drive')"
      ]
    },
    {
      "cell_type": "code",
      "execution_count": null,
      "metadata": {
        "colab": {
          "base_uri": "https://localhost:8080/"
        },
        "id": "f8OKIs8bx1NX",
        "outputId": "2e61fb8c-95d4-442f-8731-815dd9327968"
      },
      "outputs": [
        {
          "output_type": "stream",
          "name": "stdout",
          "text": [
            "Requirement already satisfied: openpyxl in /usr/local/lib/python3.10/dist-packages (3.1.2)\n",
            "Requirement already satisfied: et-xmlfile in /usr/local/lib/python3.10/dist-packages (from openpyxl) (1.1.0)\n"
          ]
        }
      ],
      "source": [
        "!pip install openpyxl"
      ]
    },
    {
      "cell_type": "markdown",
      "metadata": {
        "id": "_ik52dtbcb7q"
      },
      "source": [
        "Read the data file"
      ]
    },
    {
      "cell_type": "code",
      "execution_count": 3,
      "metadata": {
        "colab": {
          "base_uri": "https://localhost:8080/"
        },
        "id": "9qWYVkWpccEo",
        "outputId": "413d7da7-0248-4c4b-f544-d9f9aea1a457"
      },
      "outputs": [
        {
          "output_type": "stream",
          "name": "stdout",
          "text": [
            "Go.\tයන්න.\n",
            "Hi.\tහායි.\n",
            "Run!\tදුවන්න!\n",
            "Run.\tදුවන්න.\n",
            "Who?\tකවුද?\n",
            "Fire!\tගිනි!\n",
            "Help!\tඋදව්!\n",
            "Jump!\tපනින්න!\n",
            "Jump.\tපනින්න.\n",
            "Stop!\tනවත්වන්න!\n",
            "Wait!\tඉන්න!\n",
            "Wait.\tඉන්න.\n",
            "Go on.\tඉදිරියට යන්න.\n",
            "Hello!\tආයුබෝවන්!\n",
            "I ran.\tමම දිව්වා.\n",
            "I try.\tමම උත්සාහ කරනවා.\n",
            "I won!\tමම දිනුවා!\n",
            "Oh no!\tඔහ් නෑ!\n",
            "Relax.\tසන්සුන් වන්න.\n",
            "Smile.\tසිනහව.\n"
          ]
        }
      ],
      "source": [
        "import openpyxl\n",
        "\n",
        "excel_file = \"/content/drive/MyDrive/rowdataentosin.xlsx\"\n",
        "workbook = openpyxl.load_workbook(excel_file)\n",
        "sheet = workbook.active\n",
        "\n",
        "for i in range(2, 22):\n",
        "    cell1 = sheet.cell(row=i, column=1).value\n",
        "    cell2 = sheet.cell(row=i, column=2).value\n",
        "    print(f\"{cell1}\\t{cell2}\")\n",
        "\n",
        "workbook.close()\n"
      ]
    },
    {
      "cell_type": "markdown",
      "metadata": {
        "id": "uUtteFotccdz"
      },
      "source": [
        "Split the English and Sinhala translation pairs"
      ]
    },
    {
      "cell_type": "code",
      "execution_count": 5,
      "metadata": {
        "colab": {
          "base_uri": "https://localhost:8080/"
        },
        "id": "S3PhpQHtccmD",
        "outputId": "eb0f50a9-aedb-44f6-f4f2-b96244380df5"
      },
      "outputs": [
        {
          "output_type": "stream",
          "name": "stdout",
          "text": [
            "(\"Get your socks on fast. We're late!\", '[start] ඔබේ මේස් වේගයෙන් ලබා ගන්න. අපි පරක්කුයි! [end]')\n",
            "(\"It looks like no one's home.\", '[start] එය කිසිවෙකු නිවසක නොවන බව පෙනේ. [end]')\n",
            "('Do you know where Tom is from?', '[start] ටොම් කොහෙන්දැයි ඔබ දන්නවාද? [end]')\n"
          ]
        }
      ],
      "source": [
        "excel_file = \"/content/drive/MyDrive/rowdataentosin.xlsx\"\n",
        "workbook = openpyxl.load_workbook(excel_file)\n",
        "sheet = workbook.active\n",
        "\n",
        "text_pairs = []\n",
        "for row in sheet.iter_rows(values_only=True):\n",
        "    if len(row) >= 2 and row[1] is not None:\n",
        "        english, sinhala = row[:2]\n",
        "        sinhala = \"[start] \" + sinhala + \" [end]\"\n",
        "        text_pairs.append((english, sinhala))\n",
        "\n",
        "for _ in range(3):\n",
        "    print(random.choice(text_pairs))\n",
        "\n",
        "workbook.close()\n"
      ]
    },
    {
      "cell_type": "markdown",
      "metadata": {
        "id": "LXZhHwAvccuS"
      },
      "source": [
        "Randomize the data"
      ]
    },
    {
      "cell_type": "code",
      "execution_count": 6,
      "metadata": {
        "id": "ntlhKik_cc26"
      },
      "outputs": [],
      "source": [
        "random.shuffle(text_pairs)"
      ]
    },
    {
      "cell_type": "markdown",
      "metadata": {
        "id": "LTCO23TLcc93"
      },
      "source": [
        "Spliting the data into training, validation and Testing"
      ]
    },
    {
      "cell_type": "code",
      "execution_count": 7,
      "metadata": {
        "colab": {
          "base_uri": "https://localhost:8080/"
        },
        "id": "F-n5GsD7cdFn",
        "outputId": "d8878891-8a5e-40d4-a1b3-138d710fbb4e"
      },
      "outputs": [
        {
          "output_type": "stream",
          "name": "stdout",
          "text": [
            "Total sentences: 102903\n",
            "Training set size: 72033\n",
            "Validation set size: 15435\n",
            "Testing set size: 15435\n"
          ]
        }
      ],
      "source": [
        "num_val_samples = int(0.15 * len(text_pairs))\n",
        "num_train_samples = len(text_pairs) - 2 * num_val_samples\n",
        "train_pairs = text_pairs[:num_train_samples]\n",
        "val_pairs = text_pairs[num_train_samples:num_train_samples + num_val_samples]\n",
        "test_pairs = text_pairs[num_train_samples + num_val_samples:]\n",
        "\n",
        "print(\"Total sentences:\",len(text_pairs))\n",
        "print(\"Training set size:\",len(train_pairs))\n",
        "print(\"Validation set size:\",len(val_pairs))\n",
        "print(\"Testing set size:\",len(test_pairs))\n"
      ]
    },
    {
      "cell_type": "code",
      "execution_count": 8,
      "metadata": {
        "colab": {
          "base_uri": "https://localhost:8080/"
        },
        "id": "Nlz7_hQBcdTu",
        "outputId": "f9863d07-c777-4637-e9b8-039bc473af9a"
      },
      "outputs": [
        {
          "output_type": "execute_result",
          "data": {
            "text/plain": [
              "102903"
            ]
          },
          "metadata": {},
          "execution_count": 8
        }
      ],
      "source": [
        "len(train_pairs)+len(val_pairs)+len(test_pairs)"
      ]
    },
    {
      "cell_type": "markdown",
      "metadata": {
        "id": "mfKFGFWTkifQ"
      },
      "source": [
        "Removing Punctuations"
      ]
    },
    {
      "cell_type": "code",
      "execution_count": 9,
      "metadata": {
        "colab": {
          "base_uri": "https://localhost:8080/",
          "height": 35
        },
        "id": "IZrUBdcDcdiB",
        "outputId": "f669566f-5b83-4505-cb2b-54699422be3c"
      },
      "outputs": [
        {
          "output_type": "execute_result",
          "data": {
            "text/plain": [
              "'[!\"\\\\#\\\\$%\\\\&\\'\\\\(\\\\)\\\\*\\\\+,\\\\-\\\\./:;<=>\\\\?@\\\\\\\\\\\\^_`\\\\{\\\\|\\\\}\\\\~¿]'"
            ],
            "application/vnd.google.colaboratory.intrinsic+json": {
              "type": "string"
            }
          },
          "metadata": {},
          "execution_count": 9
        }
      ],
      "source": [
        "strip_chars = string.punctuation + \"¿\"\n",
        "strip_chars = strip_chars.replace(\"[\", \"\")\n",
        "strip_chars = strip_chars.replace(\"]\", \"\")\n",
        "\n",
        "f\"[{re.escape(strip_chars)}]\""
      ]
    },
    {
      "cell_type": "code",
      "execution_count": 10,
      "metadata": {
        "colab": {
          "base_uri": "https://localhost:8080/",
          "height": 35
        },
        "id": "G58-tsGTcd0-",
        "outputId": "1f62353a-9c3c-4a4b-d31a-fdc7ee185ad9"
      },
      "outputs": [
        {
          "output_type": "execute_result",
          "data": {
            "text/plain": [
              "'8'"
            ],
            "application/vnd.google.colaboratory.intrinsic+json": {
              "type": "string"
            }
          },
          "metadata": {},
          "execution_count": 10
        }
      ],
      "source": [
        "f\"{3+5}\""
      ]
    },
    {
      "cell_type": "markdown",
      "metadata": {
        "id": "u9N4er4ccd9E"
      },
      "source": [
        "Vectorizing the English and Sinhala text pairs"
      ]
    },
    {
      "cell_type": "code",
      "execution_count": 11,
      "metadata": {
        "id": "m2VJVtguceFs"
      },
      "outputs": [],
      "source": [
        "def custom_standardization(input_string):\n",
        "  lowercase = tf.strings.lower(input_string)\n",
        "  return tf.strings.regex_replace(\n",
        "      lowercase, f\"[{re.escape(strip_chars)}]\", \"\")\n",
        "\n",
        "vocab_size = 15000\n",
        "sequence_length = 20\n",
        "\n",
        "source_vectorization = layers.TextVectorization(\n",
        "    max_tokens=vocab_size,\n",
        "    output_mode=\"int\",\n",
        "    output_sequence_length=sequence_length,\n",
        ")\n",
        "target_vectorization = layers.TextVectorization(\n",
        "    max_tokens=vocab_size,\n",
        "    output_mode=\"int\",\n",
        "    output_sequence_length=sequence_length + 1,\n",
        "    standardize=custom_standardization,\n",
        ")\n",
        "train_english_texts = [pair[0] for pair in train_pairs]\n",
        "train_sinhala_texts = [pair[1] for pair in train_pairs]\n",
        "source_vectorization.adapt(train_english_texts)\n",
        "target_vectorization.adapt(train_sinhala_texts)\n"
      ]
    },
    {
      "cell_type": "markdown",
      "metadata": {
        "id": "xu8bHjxmceNT"
      },
      "source": [
        "Preparing datasets for the translation task"
      ]
    },
    {
      "cell_type": "code",
      "execution_count": 12,
      "metadata": {
        "colab": {
          "base_uri": "https://localhost:8080/"
        },
        "id": "nsStSjhAceVI",
        "outputId": "11f5e2ff-5f97-443d-d115-afbc5e119219"
      },
      "outputs": [
        {
          "output_type": "stream",
          "name": "stdout",
          "text": [
            "inputs['english'].shape: (64, 20)\n",
            "inputs['sinhala'].shape: (64, 20)\n",
            "targets.shape: (64, 20)\n"
          ]
        }
      ],
      "source": [
        "batch_size = 64\n",
        "\n",
        "def format_dataset(eng, sin):\n",
        "   eng = source_vectorization(eng)\n",
        "   sin = target_vectorization(sin)\n",
        "   return ({\n",
        "         \"english\": eng,\n",
        "         \"sinhala\": sin[:, :-1],\n",
        "   }, sin[:, 1:])\n",
        "\n",
        "def make_dataset(pairs):\n",
        "    eng_texts, sin_texts = zip(*pairs)\n",
        "    eng_texts = list(eng_texts)\n",
        "    sin_texts = list(sin_texts)\n",
        "    dataset = tf.data.Dataset.from_tensor_slices((eng_texts, sin_texts))\n",
        "    dataset = dataset.batch(batch_size)\n",
        "    dataset = dataset.map(format_dataset, num_parallel_calls=4)\n",
        "    return dataset.shuffle(2048).prefetch(16).cache()\n",
        "\n",
        "train_ds = make_dataset(train_pairs)\n",
        "val_ds = make_dataset(val_pairs)\n",
        "\n",
        "\n",
        "for inputs, targets in train_ds.take(1):\n",
        "   print(f\"inputs['english'].shape: {inputs['english'].shape}\")\n",
        "   print(f\"inputs['sinhala'].shape: {inputs['sinhala'].shape}\")\n",
        "   print(f\"targets.shape: {targets.shape}\")\n",
        "\n",
        "\n"
      ]
    },
    {
      "cell_type": "code",
      "execution_count": 13,
      "metadata": {
        "colab": {
          "base_uri": "https://localhost:8080/"
        },
        "id": "1-M6gEmFcekl",
        "outputId": "b2138cd2-b2e5-42d9-a1bd-2d82ec0e6bc6"
      },
      "outputs": [
        {
          "output_type": "stream",
          "name": "stdout",
          "text": [
            "({'english': array([[   5,    8,  953, ...,    0,    0,    0],\n",
            "       [   5,   54,    2, ...,    0,    0,    0],\n",
            "       [4895,   31,  523, ...,    0,    0,    0],\n",
            "       ...,\n",
            "       [   2,  321, 2247, ...,    0,    0,    0],\n",
            "       [   5,   13, 1768, ...,    0,    0,    0],\n",
            "       [1933,    2, 3209, ...,    0,    0,    0]]), 'sinhala': array([[   2,    5,    1, ...,    0,    0,    0],\n",
            "       [   2,    5,  295, ...,    0,    0,    0],\n",
            "       [   2,   34, 6051, ...,    0,    0,    0],\n",
            "       ...,\n",
            "       [   2,  938,   91, ...,    0,    0,    0],\n",
            "       [   2,    5, 2166, ...,    0,    0,    0],\n",
            "       [   2,  227,  433, ...,    0,    0,    0]])}, array([[   5,    1,    3, ...,    0,    0,    0],\n",
            "       [   5,  295, 2127, ...,    0,    0,    0],\n",
            "       [  34, 6051,   20, ...,    0,    0,    0],\n",
            "       ...,\n",
            "       [ 938,   91,  470, ...,    0,    0,    0],\n",
            "       [   5, 2166,  209, ...,    0,    0,    0],\n",
            "       [ 227,  433, 1447, ...,    0,    0,    0]]))\n"
          ]
        }
      ],
      "source": [
        "print(list(train_ds.as_numpy_iterator())[50])"
      ]
    },
    {
      "cell_type": "markdown",
      "metadata": {
        "id": "TPb7zyyocesc"
      },
      "source": [
        "Transformer encoder implemented as a subclassed Layer"
      ]
    },
    {
      "cell_type": "code",
      "execution_count": 14,
      "metadata": {
        "id": "Xj6kbzgIcez0"
      },
      "outputs": [],
      "source": [
        "class TransformerEncoder(layers.Layer):\n",
        "    def __init__(self, embed_dim, dense_dim, num_heads, **kwargs):\n",
        "      super().__init__(**kwargs)\n",
        "      self.embed_dim = embed_dim\n",
        "      self.dense_dim = dense_dim\n",
        "      self.num_heads = num_heads\n",
        "      self.attention = layers.MultiHeadAttention(\n",
        "           num_heads=num_heads, key_dim=embed_dim)\n",
        "      self.dense_proj = keras.Sequential(\n",
        "           [layers.Dense(dense_dim, activation=\"relu\"),\n",
        "            layers.Dense(embed_dim),]\n",
        "      )\n",
        "      self.layernorm_1 = layers.LayerNormalization()\n",
        "      self.layernorm_2 = layers.LayerNormalization()\n",
        "\n",
        "    def call(self, inputs, mask=None):\n",
        "      if mask is not None:\n",
        "         mask = mask[:, tf.newaxis, :]\n",
        "      attention_output = self.attention(\n",
        "         inputs, inputs, attention_mask=mask)\n",
        "      proj_input = self.layernorm_1(inputs + attention_output)\n",
        "      proj_output = self.dense_proj(proj_input)\n",
        "      return self.layernorm_2(proj_input + proj_output)\n",
        "\n",
        "    def get_config(self):\n",
        "        config = super().get_config()\n",
        "        config.update({\n",
        "            \"embed_dim\": self.embed_dim,\n",
        "            \"num_heads\": self.num_heads,\n",
        "            \"dense_dim\": self.dense_dim,\n",
        "        })\n",
        "        return config\n"
      ]
    },
    {
      "cell_type": "markdown",
      "metadata": {
        "id": "fub6n634ce7j"
      },
      "source": [
        "The Transformer decoder"
      ]
    },
    {
      "cell_type": "code",
      "execution_count": 15,
      "metadata": {
        "id": "rjCAl5PycfDe"
      },
      "outputs": [],
      "source": [
        "class TransformerDecoder(layers.Layer):\n",
        "    def __init__(self, embed_dim, dense_dim, num_heads, **kwargs):\n",
        "      super().__init__(**kwargs)\n",
        "      self.embed_dim = embed_dim\n",
        "      self.dense_dim = dense_dim\n",
        "      self.num_heads = num_heads\n",
        "      self.attention_1 = layers.MultiHeadAttention(\n",
        "          num_heads=num_heads, key_dim=embed_dim)\n",
        "      self.attention_2 = layers.MultiHeadAttention(\n",
        "          num_heads=num_heads, key_dim=embed_dim)\n",
        "      self.dense_proj = keras.Sequential(\n",
        "          [layers.Dense(dense_dim, activation=\"relu\"),\n",
        "           layers.Dense(embed_dim),]\n",
        "      )\n",
        "      self.layernorm_1 = layers.LayerNormalization()\n",
        "      self.layernorm_2 = layers.LayerNormalization()\n",
        "      self.layernorm_3 = layers.LayerNormalization()\n",
        "      self.supports_masking = True\n",
        "\n",
        "    def get_config(self):\n",
        "      config = super().get_config()\n",
        "      config.update({\n",
        "          \"embed_dim\": self.embed_dim,\n",
        "          \"num_heads\": self.num_heads,\n",
        "          \"dense_dim\": self.dense_dim,\n",
        "      })\n",
        "      return config\n",
        "\n",
        "    def get_causal_attention_mask(self, inputs):\n",
        "      input_shape = tf.shape(inputs)\n",
        "      batch_size, sequence_length = input_shape[0], input_shape[1]\n",
        "      i = tf.range(sequence_length)[:, tf.newaxis]\n",
        "      j = tf.range(sequence_length)\n",
        "      mask = tf.cast(i >= j, dtype=\"int32\")\n",
        "      mask = tf.reshape(mask, (1, input_shape[1], input_shape[1]))\n",
        "      mult = tf.concat(\n",
        "              [tf.expand_dims(batch_size, -1),\n",
        "               tf.constant([1, 1], dtype=tf.int32)], axis=0)\n",
        "      return tf.tile(mask, mult)\n",
        "\n",
        "    def call(self, inputs, encoder_outputs, mask=None):\n",
        "      causal_mask = self.get_causal_attention_mask(inputs)\n",
        "      if mask is not None:\n",
        "           padding_mask = tf.cast(\n",
        "                mask[:, tf.newaxis, :], dtype=\"int32\")\n",
        "           padding_mask = tf.minimum(padding_mask, causal_mask)\n",
        "      else:\n",
        "           padding_mask = mask\n",
        "      attention_output_1 = self.attention_1(\n",
        "           query=inputs,\n",
        "           value=inputs,\n",
        "           key=inputs,\n",
        "           attention_mask=causal_mask)\n",
        "      attention_output_1 = self.layernorm_1(inputs + attention_output_1)\n",
        "      attention_output_2 = self.attention_2(\n",
        "            query=attention_output_1,\n",
        "            value=encoder_outputs,\n",
        "            key=encoder_outputs,\n",
        "            attention_mask=padding_mask,\n",
        "       )\n",
        "      attention_output_2 = self.layernorm_2(\n",
        "          attention_output_1 + attention_output_2)\n",
        "      proj_output = self.dense_proj(attention_output_2)\n",
        "      return self.layernorm_3(attention_output_2 + proj_output)\n",
        "\n"
      ]
    },
    {
      "cell_type": "markdown",
      "metadata": {
        "id": "dEXwSKpfcfKw"
      },
      "source": [
        "Positional Encoding"
      ]
    },
    {
      "cell_type": "code",
      "execution_count": 16,
      "metadata": {
        "id": "XlHKt-ticfTu"
      },
      "outputs": [],
      "source": [
        "class PositionalEmbedding(layers.Layer):\n",
        "     def __init__(self, sequence_length, input_dim, output_dim, **kwargs):\n",
        "         super().__init__(**kwargs)\n",
        "         self.token_embeddings = layers.Embedding(\n",
        "             input_dim=input_dim, output_dim=output_dim)\n",
        "         self.position_embeddings = layers.Embedding(\n",
        "             input_dim=sequence_length, output_dim=output_dim)\n",
        "         self.sequence_length = sequence_length\n",
        "         self.input_dim = input_dim\n",
        "         self.output_dim = output_dim\n",
        "\n",
        "     def call(self, inputs):\n",
        "         length = tf.shape(inputs)[-1]\n",
        "         positions = tf.range(start=0, limit=length, delta=1)\n",
        "         embedded_tokens = self.token_embeddings(inputs)\n",
        "         embedded_positions = self.position_embeddings(positions)\n",
        "         return embedded_tokens + embedded_positions\n",
        "\n",
        "     def compute_mask(self, inputs, mask=None):\n",
        "        return tf.math.not_equal(inputs, 0)\n",
        "\n",
        "     def get_config(self):\n",
        "        config = super(PositionalEmbedding, self).get_config()\n",
        "        config.update({\n",
        "             \"output_dim\": self.output_dim,\n",
        "             \"sequence_length\": self.sequence_length,\n",
        "             \"input_dim\": self.input_dim,\n",
        "        })\n",
        "        return config\n"
      ]
    },
    {
      "cell_type": "markdown",
      "metadata": {
        "id": "JaRS3BJRcfbW"
      },
      "source": [
        "End-to-end Transformer"
      ]
    },
    {
      "cell_type": "code",
      "execution_count": 17,
      "metadata": {
        "id": "CBydQxTPcfkC"
      },
      "outputs": [],
      "source": [
        "embed_dim = 256\n",
        "dense_dim = 2048\n",
        "num_heads = 8\n",
        "\n",
        "encoder_inputs = keras.Input(shape=(None,), dtype=\"int64\", name=\"english\")\n",
        "x = PositionalEmbedding(sequence_length, vocab_size, embed_dim)(encoder_inputs)\n",
        "encoder_outputs = TransformerEncoder(embed_dim, dense_dim, num_heads)(x)\n",
        "\n",
        "decoder_inputs = keras.Input(shape=(None,), dtype=\"int64\", name=\"sinhala\")\n",
        "x = PositionalEmbedding(sequence_length, vocab_size, embed_dim)(decoder_inputs)\n",
        "x = TransformerDecoder(embed_dim, dense_dim, num_heads)(x, encoder_outputs)\n",
        "x = layers.Dropout(0.5)(x)\n",
        "decoder_outputs = layers.Dense(vocab_size, activation=\"softmax\")(x)\n",
        "transformer = keras.Model([encoder_inputs, decoder_inputs], decoder_outputs)\n"
      ]
    },
    {
      "cell_type": "code",
      "execution_count": 18,
      "metadata": {
        "colab": {
          "base_uri": "https://localhost:8080/"
        },
        "id": "HbvhUH8fcf0E",
        "outputId": "55ead12c-c73e-4ad6-8b52-bc6d3ab8fbc8"
      },
      "outputs": [
        {
          "output_type": "stream",
          "name": "stdout",
          "text": [
            "Model: \"model\"\n",
            "__________________________________________________________________________________________________\n",
            " Layer (type)                Output Shape                 Param #   Connected to                  \n",
            "==================================================================================================\n",
            " english (InputLayer)        [(None, None)]               0         []                            \n",
            "                                                                                                  \n",
            " sinhala (InputLayer)        [(None, None)]               0         []                            \n",
            "                                                                                                  \n",
            " positional_embedding (Posi  (None, None, 256)            3845120   ['english[0][0]']             \n",
            " tionalEmbedding)                                                                                 \n",
            "                                                                                                  \n",
            " positional_embedding_1 (Po  (None, None, 256)            3845120   ['sinhala[0][0]']             \n",
            " sitionalEmbedding)                                                                               \n",
            "                                                                                                  \n",
            " transformer_encoder (Trans  (None, None, 256)            3155456   ['positional_embedding[0][0]']\n",
            " formerEncoder)                                                                                   \n",
            "                                                                                                  \n",
            " transformer_decoder (Trans  (None, None, 256)            5259520   ['positional_embedding_1[0][0]\n",
            " formerDecoder)                                                     ',                            \n",
            "                                                                     'transformer_encoder[0][0]'] \n",
            "                                                                                                  \n",
            " dropout (Dropout)           (None, None, 256)            0         ['transformer_decoder[0][0]'] \n",
            "                                                                                                  \n",
            " dense_4 (Dense)             (None, None, 15000)          3855000   ['dropout[0][0]']             \n",
            "                                                                                                  \n",
            "==================================================================================================\n",
            "Total params: 19960216 (76.14 MB)\n",
            "Trainable params: 19960216 (76.14 MB)\n",
            "Non-trainable params: 0 (0.00 Byte)\n",
            "__________________________________________________________________________________________________\n"
          ]
        }
      ],
      "source": [
        "transformer.summary()"
      ]
    },
    {
      "cell_type": "markdown",
      "metadata": {
        "id": "izcfAoCCcf7a"
      },
      "source": [
        "Training the sequence-to-sequence Transformer"
      ]
    },
    {
      "cell_type": "code",
      "execution_count": 19,
      "metadata": {
        "colab": {
          "base_uri": "https://localhost:8080/"
        },
        "id": "TtD5TtarcgFw",
        "outputId": "3f36407d-5a84-43a2-d295-53b3499a269f"
      },
      "outputs": [
        {
          "output_type": "stream",
          "name": "stdout",
          "text": [
            "Epoch 1/30\n",
            "1126/1126 [==============================] - 96s 77ms/step - loss: 4.3233 - accuracy: 0.4118 - val_loss: 3.3538 - val_accuracy: 0.5092\n",
            "Epoch 2/30\n",
            "1126/1126 [==============================] - 77s 68ms/step - loss: 3.2355 - accuracy: 0.5211 - val_loss: 2.8538 - val_accuracy: 0.5645\n",
            "Epoch 3/30\n",
            "1126/1126 [==============================] - 77s 69ms/step - loss: 2.8789 - accuracy: 0.5643 - val_loss: 2.6875 - val_accuracy: 0.5888\n",
            "Epoch 4/30\n",
            "1126/1126 [==============================] - 79s 70ms/step - loss: 2.6875 - accuracy: 0.5915 - val_loss: 2.6249 - val_accuracy: 0.6011\n",
            "Epoch 5/30\n",
            "1126/1126 [==============================] - 77s 68ms/step - loss: 2.5670 - accuracy: 0.6118 - val_loss: 2.5891 - val_accuracy: 0.6103\n",
            "Epoch 6/30\n",
            "1126/1126 [==============================] - 77s 68ms/step - loss: 2.4852 - accuracy: 0.6262 - val_loss: 2.5635 - val_accuracy: 0.6184\n",
            "Epoch 7/30\n",
            "1126/1126 [==============================] - 77s 68ms/step - loss: 2.4179 - accuracy: 0.6380 - val_loss: 2.5631 - val_accuracy: 0.6193\n",
            "Epoch 8/30\n",
            "1126/1126 [==============================] - 77s 68ms/step - loss: 2.3624 - accuracy: 0.6487 - val_loss: 2.5579 - val_accuracy: 0.6228\n",
            "Epoch 9/30\n",
            "1126/1126 [==============================] - 77s 68ms/step - loss: 2.3133 - accuracy: 0.6574 - val_loss: 2.5604 - val_accuracy: 0.6246\n",
            "Epoch 10/30\n",
            "1126/1126 [==============================] - 79s 70ms/step - loss: 2.2684 - accuracy: 0.6660 - val_loss: 2.5493 - val_accuracy: 0.6315\n",
            "Epoch 11/30\n",
            "1126/1126 [==============================] - 77s 68ms/step - loss: 2.2280 - accuracy: 0.6731 - val_loss: 2.5895 - val_accuracy: 0.6256\n",
            "Epoch 12/30\n",
            "1126/1126 [==============================] - 77s 68ms/step - loss: 2.1899 - accuracy: 0.6795 - val_loss: 2.5542 - val_accuracy: 0.6316\n",
            "Epoch 13/30\n",
            "1126/1126 [==============================] - 79s 70ms/step - loss: 2.1581 - accuracy: 0.6852 - val_loss: 2.5721 - val_accuracy: 0.6327\n",
            "Epoch 14/30\n",
            "1126/1126 [==============================] - 77s 68ms/step - loss: 2.1301 - accuracy: 0.6905 - val_loss: 2.6015 - val_accuracy: 0.6316\n",
            "Epoch 15/30\n",
            "1126/1126 [==============================] - 79s 70ms/step - loss: 2.1040 - accuracy: 0.6948 - val_loss: 2.5780 - val_accuracy: 0.6354\n",
            "Epoch 16/30\n",
            "1126/1126 [==============================] - 77s 69ms/step - loss: 2.0765 - accuracy: 0.6998 - val_loss: 2.6247 - val_accuracy: 0.6327\n",
            "Epoch 17/30\n",
            "1126/1126 [==============================] - 77s 68ms/step - loss: 2.0570 - accuracy: 0.7036 - val_loss: 2.6020 - val_accuracy: 0.6369\n",
            "Epoch 18/30\n",
            "1126/1126 [==============================] - 77s 68ms/step - loss: 2.0387 - accuracy: 0.7067 - val_loss: 2.6330 - val_accuracy: 0.6332\n",
            "Epoch 19/30\n",
            "1126/1126 [==============================] - 79s 70ms/step - loss: 2.0211 - accuracy: 0.7103 - val_loss: 2.6261 - val_accuracy: 0.6351\n",
            "Epoch 20/30\n",
            "1126/1126 [==============================] - 79s 70ms/step - loss: 2.0015 - accuracy: 0.7136 - val_loss: 2.6260 - val_accuracy: 0.6374\n",
            "Epoch 21/30\n",
            "1126/1126 [==============================] - 77s 68ms/step - loss: 1.9822 - accuracy: 0.7173 - val_loss: 2.6338 - val_accuracy: 0.6385\n",
            "Epoch 22/30\n",
            "1126/1126 [==============================] - 77s 68ms/step - loss: 1.9654 - accuracy: 0.7199 - val_loss: 2.6676 - val_accuracy: 0.6372\n",
            "Epoch 23/30\n",
            "1126/1126 [==============================] - 77s 68ms/step - loss: 1.9440 - accuracy: 0.7241 - val_loss: 2.6757 - val_accuracy: 0.6359\n",
            "Epoch 24/30\n",
            "1126/1126 [==============================] - 77s 68ms/step - loss: 1.9256 - accuracy: 0.7271 - val_loss: 2.6558 - val_accuracy: 0.6418\n",
            "Epoch 25/30\n",
            "1126/1126 [==============================] - 79s 70ms/step - loss: 1.9118 - accuracy: 0.7296 - val_loss: 2.6914 - val_accuracy: 0.6370\n",
            "Epoch 26/30\n",
            "1126/1126 [==============================] - 77s 68ms/step - loss: 1.8929 - accuracy: 0.7330 - val_loss: 2.6826 - val_accuracy: 0.6407\n",
            "Epoch 27/30\n",
            "1126/1126 [==============================] - 77s 68ms/step - loss: 1.8702 - accuracy: 0.7373 - val_loss: 2.7171 - val_accuracy: 0.6427\n",
            "Epoch 28/30\n",
            "1126/1126 [==============================] - 76s 68ms/step - loss: 1.8557 - accuracy: 0.7389 - val_loss: 2.7208 - val_accuracy: 0.6402\n",
            "Epoch 29/30\n",
            "1126/1126 [==============================] - 76s 68ms/step - loss: 1.8386 - accuracy: 0.7422 - val_loss: 2.7373 - val_accuracy: 0.6411\n",
            "Epoch 30/30\n",
            "1126/1126 [==============================] - 76s 68ms/step - loss: 1.8176 - accuracy: 0.7457 - val_loss: 2.7701 - val_accuracy: 0.6425\n"
          ]
        },
        {
          "output_type": "execute_result",
          "data": {
            "text/plain": [
              "<keras.src.callbacks.History at 0x7ac1b0907a60>"
            ]
          },
          "metadata": {},
          "execution_count": 19
        }
      ],
      "source": [
        "transformer.compile(\n",
        "    optimizer=\"rmsprop\",\n",
        "    loss=\"sparse_categorical_crossentropy\",\n",
        "    metrics=[\"accuracy\"])\n",
        "transformer.fit(train_ds, epochs=30, validation_data=val_ds)\n"
      ]
    },
    {
      "cell_type": "markdown",
      "metadata": {
        "id": "HtV-4Jp7cgNt"
      },
      "source": [
        "Translating new sentences with our Transformer model"
      ]
    },
    {
      "cell_type": "code",
      "execution_count": 20,
      "metadata": {
        "id": "lKCdvEQFcgWn"
      },
      "outputs": [],
      "source": [
        "sin_vocab = target_vectorization.get_vocabulary()\n",
        "sin_index_lookup = dict(zip(range(len(sin_vocab)), sin_vocab))\n",
        "max_decoded_sentence_length = 20\n"
      ]
    },
    {
      "cell_type": "markdown",
      "metadata": {
        "id": "P124OmIxcgeo"
      },
      "source": [
        "Output Testing and Decoding the output sequence"
      ]
    },
    {
      "cell_type": "code",
      "execution_count": 21,
      "metadata": {
        "id": "xjO9rIZkcgnq"
      },
      "outputs": [],
      "source": [
        "import numpy as np\n",
        "\n",
        "def decode_sequence(input_sentence):\n",
        "     tokenized_input_sentence = source_vectorization([input_sentence])\n",
        "     decoded_sentence = \"[start]\"\n",
        "     for i in range(max_decoded_sentence_length):\n",
        "       tokenized_target_sentence = target_vectorization(\n",
        "         [decoded_sentence])[:, :-1]\n",
        "       predictions = transformer(\n",
        "         [tokenized_input_sentence, tokenized_target_sentence])\n",
        "       sampled_token_index = np.argmax(predictions[0, i, :])\n",
        "       sampled_token = sin_index_lookup[sampled_token_index]\n",
        "       decoded_sentence += \" \" + sampled_token\n",
        "       if sampled_token == \"[end]\": break\n",
        "     return decoded_sentence"
      ]
    },
    {
      "cell_type": "markdown",
      "metadata": {
        "id": "LzPCHf-Acgvm"
      },
      "source": [
        "Transformer translating output"
      ]
    },
    {
      "cell_type": "code",
      "execution_count": 28,
      "metadata": {
        "colab": {
          "base_uri": "https://localhost:8080/"
        },
        "id": "fmWCUkuscg4y",
        "outputId": "b18ee371-5141-480d-d3e6-ec5b8240e554"
      },
      "outputs": [
        {
          "output_type": "stream",
          "name": "stdout",
          "text": [
            "-\n",
            "You must read this book.\n",
            "[start] ඔබ මෙම පොත කියවිය යුතුයි [end]\n",
            "-\n",
            "How's business?\n",
            "[start] සමාගම කෙසේද [end]\n",
            "-\n",
            "It isn't new.\n",
            "[start] එය අලුත් නොවේ [end]\n",
            "-\n",
            "He inserted the key in the lock.\n",
            "[start] ඔහු යතුර [UNK] දොර වසා ගත්තේය [end]\n",
            "-\n",
            "We don't want to be separated.\n",
            "[start] අපට වෙන් වීමට අවශ්ය නැත [end]\n"
          ]
        }
      ],
      "source": [
        "test_eng_texts = [pair[0] for pair in test_pairs]\n",
        "for _ in range(5):\n",
        "    input_sentence = random.choice(test_eng_texts)\n",
        "    print(\"-\")\n",
        "    print(input_sentence)\n",
        "    print(decode_sequence(input_sentence))\n",
        "\n"
      ]
    },
    {
      "cell_type": "markdown",
      "metadata": {
        "id": "r660q0N3chCL"
      },
      "source": [
        "Evaluation using the BLEU score"
      ]
    },
    {
      "cell_type": "code",
      "execution_count": 26,
      "metadata": {
        "colab": {
          "base_uri": "https://localhost:8080/"
        },
        "id": "Cs6FBdvQchK-",
        "outputId": "91d01855-68fa-4d2c-856f-3c659f42e986"
      },
      "outputs": [
        {
          "output_type": "stream",
          "name": "stdout",
          "text": [
            "[start] නායකයා නායකයා අනෙක් පැත්තේ ය [end] [start] පල්ලිය වීදියේ අනෙක් පැත්තේ ය. [end]\n",
            "Score:0.47619047619047616\n"
          ]
        },
        {
          "output_type": "stream",
          "name": "stderr",
          "text": [
            "/usr/local/lib/python3.10/dist-packages/nltk/translate/bleu_score.py:552: UserWarning: \n",
            "The hypothesis contains 0 counts of 2-gram overlaps.\n",
            "Therefore the BLEU score evaluates to 0, independently of\n",
            "how many N-gram overlaps of lower order it contains.\n",
            "Consider using lower n-gram order or use SmoothingFunction()\n",
            "  warnings.warn(_msg)\n",
            "/usr/local/lib/python3.10/dist-packages/nltk/translate/bleu_score.py:552: UserWarning: \n",
            "The hypothesis contains 0 counts of 3-gram overlaps.\n",
            "Therefore the BLEU score evaluates to 0, independently of\n",
            "how many N-gram overlaps of lower order it contains.\n",
            "Consider using lower n-gram order or use SmoothingFunction()\n",
            "  warnings.warn(_msg)\n",
            "/usr/local/lib/python3.10/dist-packages/nltk/translate/bleu_score.py:552: UserWarning: \n",
            "The hypothesis contains 0 counts of 4-gram overlaps.\n",
            "Therefore the BLEU score evaluates to 0, independently of\n",
            "how many N-gram overlaps of lower order it contains.\n",
            "Consider using lower n-gram order or use SmoothingFunction()\n",
            "  warnings.warn(_msg)\n"
          ]
        },
        {
          "output_type": "stream",
          "name": "stdout",
          "text": [
            "[start] කරුණාකර අපට කෝපි දෙකක් ගෙන ඒමට පොරොන්දු වන්න [end] [start] කරුණාකර අපට කෝපි කෝප්ප දෙකක් ගෙනෙන්න. [end]\n",
            "Score:0.43103448275862066\n",
            "[start] මම ඇතුලට ටිකක් එන්නම් [end] [start] මම මොහොතකට සූදානම්ව සිටිමි. [end]\n",
            "Score:0.4857142857142857\n",
            "[start] ඔබ කරුණාකර දොර වසා සිටිනවාද [end] [start] කරුණාකර ඔබ දොර වසා දමනවාද? [end]\n",
            "Score:0.5365853658536586\n",
            "[start] මම හිතන්නේ ඔබට හැකි ඉක්මනින් ටොම් අල්ලා ගැනීමට අවශ්යයි [end] [start] මම හිතන්නේ ඔබට හැකි ඉක්මනින් ටොම් සම්බන්ධ කර ගැනීමට අවශ්යයි. [end]\n",
            "Score:0.4411764705882353\n",
            "[start] මට මේ සඳහා මගේ [UNK] ආවා [end] [start] මට මේ අධ්යයන වාරය සඳහා මගේ පෙළපොත් ලැබුණා. [end]\n",
            "Score:0.5\n",
            "[start] ටොම්ට වෙන වෙන්නේ නැහැ [end] [start] ටොම්ට වෙනත් තැනක් නැත. [end]\n",
            "Score:0.5142857142857142\n",
            "[start] ඔහු වියදම් [UNK] සමඟ ඉදිරියට සිටියේය [end] [start] රාජකාරිය පැහැර හැරීම සඳහා ඔහු උසාවියේදී විවාහ විය. [end]\n",
            "Score:0.42\n",
            "[start] ඔහු පැයක් බලා සිටියේය [end] [start] ඔහු පැයක් බලා සිටී. [end]\n",
            "Score:0.6857142857142857\n",
            "[start] ටොම් පැවසුවේ මරියාට කිසිවක් කිව නොහැකි බවයි මට ඒක ඔබට [UNK] [end] [start] ටොම් මරියාට යමක් කිව්වා මට ඇහෙන්නේ නැහැ කියලා. [end]\n",
            "Score:0.3287671232876712\n",
            "[start] ඔබ එය කළාද [end] [start] ඔබ කොහොමද එය කළේ? [end]\n",
            "Score:0.7083333333333334\n",
            "[start] ටොම් මරියා වෙත පැමිණියේ ය [end] [start] මේරි පිටව ගිය පසු ටොම් පැමිණියේය. [end]\n",
            "Score:0.5641025641025641\n",
            "[start] අසල්වැසියන් [UNK] පසුව [end] [start] සාර්ථකත්වය සාර්ථකත්වය ඇති කරයි. [end]\n",
            "Score:0.4166666666666667\n",
            "[start] ඔහුගේ සියලු රථ ප්රති ල ඔහුට [UNK] ය [end] [start] ඔහුගේ සියලු ධනය සඳහා ඔහු අසතුටින් සිටී. [end]\n",
            "Score:0.4489795918367347\n",
            "[start] ඔබ මෝඩ දෙයක් කියන්නේ නැහැ [end] [start] මම හිතන්නේ ඔබ මෝඩ දෙයක් නොකියයි. [end]\n",
            "Score:0.6153846153846154\n",
            "[start] මම හිතන්නේ ඔහු මගේ ඇඳ යට නිදා ගැනීමට ඉඩ දුන්නා [end] [start] මම ඔහුට රාත්රිය සඳහා මගේ නිවසේ නිදා ගැනීමට ඉඩ දුන්නා. [end]\n",
            "Score:0.48333333333333334\n",
            "[start] එය දැන් ප්රමාණවත් බවට කරනු ඇත [end] [start] එය දැනට ප්රමාණවත් වනු ඇත. [end]\n",
            "Score:0.6046511627906976\n",
            "[start] අපි [UNK] ගැටලුව වෙනස් නොකරනු ඇත [end] [start] අපි කාලසටහන වෙනස් නොකිරීම හොඳය. [end]\n",
            "Score:0.5\n",
            "[start] අපේ ගුරුවරයා දිගු කතාවක් කළේය [end] [start] අපේ විදුහල්පති දිගු කතාවක් කළා. [end]\n",
            "Score:0.5348837209302325\n",
            "[start] ඔබ එළියට පැමිණි විට පොතක් ලියන්න [end] [start] ඔබ පිටතට යන විට ආලෝකය ඉවතට ගැනීමට වග බලා ගන්න. [end]\n",
            "Score:0.5217391304347826\n",
            "\n",
            "BLEU score : 10.22/20\n"
          ]
        }
      ],
      "source": [
        "from nltk.translate.bleu_score import sentence_bleu\n",
        "\n",
        "test_eng_texts = [pair[0] for pair in test_pairs]\n",
        "test_sin_texts = [pair[1] for pair in test_pairs]\n",
        "score = 0\n",
        "bleu  = 0\n",
        "for i in range(20):\n",
        "    candidate = decode_sequence(test_eng_texts[i])\n",
        "    reference = test_sin_texts[i].lower()\n",
        "    print(candidate,reference)\n",
        "    score = sentence_bleu(reference, candidate, weights=(1, 0, 0, 0))\n",
        "    bleu+=score\n",
        "    print(f\"Score:{score}\")\n",
        "print(f\"\\nBLEU score : {round(bleu,2)}/20\")"
      ]
    },
    {
      "cell_type": "markdown",
      "metadata": {
        "id": "8GkdxaKBBT6z"
      },
      "source": [
        "Calculate accuracy for 20 new sentences"
      ]
    },
    {
      "cell_type": "code",
      "execution_count": 29,
      "metadata": {
        "colab": {
          "base_uri": "https://localhost:8080/"
        },
        "id": "3KQm5sjOBUIR",
        "outputId": "ec2cf467-e5e0-4c04-8343-25ce39b09e3c"
      },
      "outputs": [
        {
          "output_type": "stream",
          "name": "stdout",
          "text": [
            "[start] මම නව භාෂා ඉගෙන ගැනීමට කැමතියි [end] මම අලුත් භාෂා ඉගෙන ගන්න ආසයි.\n",
            "Score:0.2727272727272727\n",
            "[start] මෙය ලස්සන දවසක් [end] මේක ලස්සන දවසක්.\n",
            "Score:0.3103448275862069\n",
            "[start] ඇය ඉතා හොඳින් ගායනා කළහ [end] ඇය ඉතා හොඳින් ගායනා කරයි.\n",
            "Score:0.3783783783783784\n",
            "[start] ඔවුන් උද්යානයේ යනවා [end] ඔවුන් උද්යානයට යනවා.\n",
            "Score:0.30303030303030304\n",
            "[start] පොත මේසය මත ඇත [end] පොත මේසය උඩ.\n",
            "Score:0.2857142857142857\n",
            "[start] අපට මෙම ගැටලුව අවසන් කළ යුතුය [end] අපි මේ ව්‍යාපෘතිය අවසන් කළ යුතුයි.\n",
            "Score:0.3023255813953489\n",
            "[start] ඔහු හොඳ මිතුරෙකු [end] ඔහු හොඳ මිතුරෙකි.\n",
            "Score:0.4\n",
            "[start] මට ලොව පුරා බොස්ටන් වෙත අවශ්යයි [end] මට ලොව වටා සංචාරය කිරීමට අවශ්‍යයි.\n",
            "Score:0.31111111111111106\n",
            "[start] බළලා බර මත නිදාගෙන සිටී [end] බළලා සෝෆා මත නිදාගෙන සිටී.\n",
            "Score:0.40540540540540543\n",
            "[start] ඇය රසවත් ආහාර [UNK] [end] ඇය රසවත් කෑම උයනවා.\n",
            "Score:0.2727272727272727\n",
            "[start] අපිට කරන්න වැඩ තියෙනවා [end] අපිට කරන්න වැඩ ගොඩක් තියෙනවා.\n",
            "Score:0.4444444444444444\n",
            "[start] ඔහු ස්පා spanish ් [UNK] භාෂාව කථා කරයි [end] ඔහු චතුර ලෙස ස්පාඤ්ඤ භාෂාව කතා කරයි.\n",
            "Score:0.28301886792452824\n",
            "[start] කාරණය සඳුදා ආරම්භ වේ [end] ප්‍රසංගය සවස 7 ට ආරම්භ වේ.\n",
            "Score:0.29411764705882354\n",
            "[start] මට [UNK] මිලදී ගැනීමට අවශ්යයි [end] මට සිල්ලර බඩු ටිකක් ගන්න ඕන.\n",
            "Score:0.186046511627907\n",
            "[start] ඇය විභාගය වෙනුවෙන් ඉගෙන ගනී [end] ඇය විභාගයට පාඩම් කරයි.\n",
            "Score:0.21951219512195122\n",
            "[start] ඔවුන් චිත්රපටය [UNK] [end] එයාලා ෆිල්ම් එකක් බලනවා.\n",
            "Score:0.17647058823529413\n",
            "[start] ඔහු ගිටාරය හොඳින් වාදනය කරයි [end] ඔහු ඉතා හොඳින් ගිටාර් වාදනය කරයි.\n",
            "Score:0.40476190476190477\n",
            "[start] අපි දැන් හෙට වෙරළට යනවා [end] අපි හෙට මුහුදු වෙරළට යනවා.\n",
            "Score:0.3783783783783784\n",
            "[start] ගබඩාවට [UNK] ඉදිරියට යාමට ඇත [end] සඳුදා දිනවල කෞතුකාගාරය වසා ඇත.\n",
            "Score:0.23809523809523808\n",
            "[start] මම මගේ පවුල බලන්න යනවා [end] මම මගේ පවුල බලන්න යනවා.\n",
            "Score:0.36111111111111116\n",
            "\n",
            "BLEU score : 6.23/20\n"
          ]
        }
      ],
      "source": [
        "manualTest = [\n",
        "    (\"I love learning new languages.\", \"මම අලුත් භාෂා ඉගෙන ගන්න ආසයි.\"),\n",
        "    (\"This is a beautiful day.\", \"මේක ලස්සන දවසක්.\"),\n",
        "    (\"She sings very well.\", \"ඇය ඉතා හොඳින් ගායනා කරයි.\"),\n",
        "    (\"They are going to the park.\", \"ඔවුන් උද්යානයට යනවා.\"),\n",
        "    (\"The book is on the table.\", \"පොත මේසය උඩ.\"),\n",
        "    (\"We need to finish this project.\", \"අපි මේ ව්‍යාපෘතිය අවසන් කළ යුතුයි.\"),\n",
        "    (\"He is a good friend.\", \"ඔහු හොඳ මිතුරෙකි.\"),\n",
        "    (\"I want to travel around the world.\", \"මට ලොව වටා සංචාරය කිරීමට අවශ්‍යයි.\"),\n",
        "    (\"The cat is sleeping on the sofa.\", \"බළලා සෝෆා මත නිදාගෙන සිටී.\"),\n",
        "    (\"She cooks delicious food.\", \"ඇය රසවත් කෑම උයනවා.\"),\n",
        "    (\"We have a lot of work to do.\", \"අපිට කරන්න වැඩ ගොඩක් තියෙනවා.\"),\n",
        "    (\"He speaks Spanish fluently.\", \"ඔහු චතුර ලෙස ස්පාඤ්ඤ භාෂාව කතා කරයි.\"),\n",
        "    (\"The concert starts at 7 PM.\", \"ප්‍රසංගය සවස 7 ට ආරම්භ වේ.\"),\n",
        "    (\"I need to buy some groceries.\", \"මට සිල්ලර බඩු ටිකක් ගන්න ඕන.\"),\n",
        "    (\"She is studying for her exam.\", \"ඇය විභාගයට පාඩම් කරයි.\"),\n",
        "    (\"They are watching a movie.\", \"එයාලා ෆිල්ම් එකක් බලනවා.\"),\n",
        "    (\"He plays the guitar very well.\", \"ඔහු ඉතා හොඳින් ගිටාර් වාදනය කරයි.\"),\n",
        "    (\"We are going to the beach tomorrow.\", \"අපි හෙට මුහුදු වෙරළට යනවා.\"),\n",
        "    (\"The museum is closed on Mondays.\", \"සඳුදා දිනවල කෞතුකාගාරය වසා ඇත.\"),\n",
        "    (\"I am going to visit my family.\", \"මම මගේ පවුල බලන්න යනවා.\")\n",
        "]\n",
        "\n",
        "from nltk.translate.bleu_score import sentence_bleu\n",
        "\n",
        "testENTexts = [pair[0] for pair in manualTest]\n",
        "testSITexts = [pair[1] for pair in manualTest]\n",
        "score = 0\n",
        "bleu  = 0\n",
        "for i in range(20):\n",
        "    candidate = decode_sequence(testENTexts[i])\n",
        "    reference = testSITexts[i].lower()\n",
        "    print(candidate,reference)\n",
        "    score = sentence_bleu(reference, candidate, weights=(1, 0, 0, 0))\n",
        "    bleu+=score\n",
        "    print(f\"Score:{score}\")\n",
        "print(f\"\\nBLEU score : {round(bleu,2)}/20\")\n",
        "\n",
        "\n"
      ]
    }
  ],
  "metadata": {
    "accelerator": "GPU",
    "colab": {
      "gpuType": "T4",
      "provenance": [],
      "include_colab_link": true
    },
    "kernelspec": {
      "display_name": "Python 3",
      "name": "python3"
    },
    "language_info": {
      "name": "python"
    }
  },
  "nbformat": 4,
  "nbformat_minor": 0
}